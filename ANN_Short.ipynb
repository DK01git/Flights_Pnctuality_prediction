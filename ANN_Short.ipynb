{
 "cells": [
  {
   "cell_type": "code",
   "execution_count": 12,
   "metadata": {},
   "outputs": [],
   "source": [
    "import pandas as pd \n",
    "import numpy as np\n",
    "import matplotlib.pyplot as plt\n",
    "from sklearn.metrics import mean_squared_error,mean_absolute_error\n",
    "from sklearn.model_selection import train_test_split\n",
    "from sklearn.linear_model import LinearRegression\n"
   ]
  },
  {
   "cell_type": "code",
   "execution_count": 13,
   "metadata": {},
   "outputs": [],
   "source": [
    "dfn = pd.read_csv('clean.csv')"
   ]
  },
  {
   "cell_type": "code",
   "execution_count": 14,
   "metadata": {},
   "outputs": [
    {
     "data": {
      "text/html": [
       "<div>\n",
       "<style scoped>\n",
       "    .dataframe tbody tr th:only-of-type {\n",
       "        vertical-align: middle;\n",
       "    }\n",
       "\n",
       "    .dataframe tbody tr th {\n",
       "        vertical-align: top;\n",
       "    }\n",
       "\n",
       "    .dataframe thead th {\n",
       "        text-align: right;\n",
       "    }\n",
       "</style>\n",
       "<table border=\"1\" class=\"dataframe\">\n",
       "  <thead>\n",
       "    <tr style=\"text-align: right;\">\n",
       "      <th></th>\n",
       "      <th>reporting_period</th>\n",
       "      <th>number_flights_matched</th>\n",
       "      <th>actual_flights_unmatched</th>\n",
       "      <th>number_flights_cancelled</th>\n",
       "      <th>flights_more_than_15_minutes_early_percent</th>\n",
       "      <th>flights_15_minutes_early_to_1_minute_early_percent</th>\n",
       "      <th>flights_0_to_15_minutes_late_percent</th>\n",
       "      <th>flights_between_16_and_30_minutes_late_percent</th>\n",
       "      <th>flights_between_31_and_60_minutes_late_percent</th>\n",
       "      <th>flights_between_61_and_120_minutes_late_percent</th>\n",
       "      <th>flights_between_121_and_180_minutes_late_percent</th>\n",
       "      <th>flights_between_181_and_360_minutes_late_percent</th>\n",
       "      <th>flights_more_than_360_minutes_late_percent</th>\n",
       "      <th>average_delay_mins</th>\n",
       "      <th>arrival_departure_A</th>\n",
       "      <th>arrival_departure_D</th>\n",
       "      <th>scheduled_charter_C</th>\n",
       "      <th>scheduled_charter_S</th>\n",
       "    </tr>\n",
       "  </thead>\n",
       "  <tbody>\n",
       "    <tr>\n",
       "      <th>0</th>\n",
       "      <td>202201</td>\n",
       "      <td>4</td>\n",
       "      <td>0</td>\n",
       "      <td>0</td>\n",
       "      <td>0.000000</td>\n",
       "      <td>25.000000</td>\n",
       "      <td>0.000000</td>\n",
       "      <td>50.000000</td>\n",
       "      <td>25.000000</td>\n",
       "      <td>0.000000</td>\n",
       "      <td>0.000000</td>\n",
       "      <td>0.000000</td>\n",
       "      <td>0.0</td>\n",
       "      <td>19.0</td>\n",
       "      <td>0</td>\n",
       "      <td>1</td>\n",
       "      <td>0</td>\n",
       "      <td>1</td>\n",
       "    </tr>\n",
       "    <tr>\n",
       "      <th>1</th>\n",
       "      <td>202201</td>\n",
       "      <td>17</td>\n",
       "      <td>0</td>\n",
       "      <td>0</td>\n",
       "      <td>17.647059</td>\n",
       "      <td>35.294118</td>\n",
       "      <td>23.529412</td>\n",
       "      <td>5.882353</td>\n",
       "      <td>5.882353</td>\n",
       "      <td>0.000000</td>\n",
       "      <td>11.764706</td>\n",
       "      <td>0.000000</td>\n",
       "      <td>0.0</td>\n",
       "      <td>22.0</td>\n",
       "      <td>1</td>\n",
       "      <td>0</td>\n",
       "      <td>0</td>\n",
       "      <td>1</td>\n",
       "    </tr>\n",
       "    <tr>\n",
       "      <th>2</th>\n",
       "      <td>202201</td>\n",
       "      <td>56</td>\n",
       "      <td>0</td>\n",
       "      <td>3</td>\n",
       "      <td>15.254237</td>\n",
       "      <td>25.423729</td>\n",
       "      <td>25.423729</td>\n",
       "      <td>6.779661</td>\n",
       "      <td>10.169492</td>\n",
       "      <td>6.779661</td>\n",
       "      <td>3.389831</td>\n",
       "      <td>1.694915</td>\n",
       "      <td>0.0</td>\n",
       "      <td>23.0</td>\n",
       "      <td>1</td>\n",
       "      <td>0</td>\n",
       "      <td>0</td>\n",
       "      <td>1</td>\n",
       "    </tr>\n",
       "    <tr>\n",
       "      <th>3</th>\n",
       "      <td>202201</td>\n",
       "      <td>9</td>\n",
       "      <td>0</td>\n",
       "      <td>0</td>\n",
       "      <td>0.000000</td>\n",
       "      <td>44.444444</td>\n",
       "      <td>33.333333</td>\n",
       "      <td>0.000000</td>\n",
       "      <td>11.111111</td>\n",
       "      <td>0.000000</td>\n",
       "      <td>11.111111</td>\n",
       "      <td>0.000000</td>\n",
       "      <td>0.0</td>\n",
       "      <td>22.0</td>\n",
       "      <td>0</td>\n",
       "      <td>1</td>\n",
       "      <td>1</td>\n",
       "      <td>0</td>\n",
       "    </tr>\n",
       "    <tr>\n",
       "      <th>4</th>\n",
       "      <td>202201</td>\n",
       "      <td>5</td>\n",
       "      <td>0</td>\n",
       "      <td>0</td>\n",
       "      <td>0.000000</td>\n",
       "      <td>40.000000</td>\n",
       "      <td>20.000000</td>\n",
       "      <td>20.000000</td>\n",
       "      <td>20.000000</td>\n",
       "      <td>0.000000</td>\n",
       "      <td>0.000000</td>\n",
       "      <td>0.000000</td>\n",
       "      <td>0.0</td>\n",
       "      <td>18.0</td>\n",
       "      <td>0</td>\n",
       "      <td>1</td>\n",
       "      <td>0</td>\n",
       "      <td>1</td>\n",
       "    </tr>\n",
       "  </tbody>\n",
       "</table>\n",
       "</div>"
      ],
      "text/plain": [
       "   reporting_period  number_flights_matched  actual_flights_unmatched  \\\n",
       "0            202201                       4                         0   \n",
       "1            202201                      17                         0   \n",
       "2            202201                      56                         0   \n",
       "3            202201                       9                         0   \n",
       "4            202201                       5                         0   \n",
       "\n",
       "   number_flights_cancelled  flights_more_than_15_minutes_early_percent  \\\n",
       "0                         0                                    0.000000   \n",
       "1                         0                                   17.647059   \n",
       "2                         3                                   15.254237   \n",
       "3                         0                                    0.000000   \n",
       "4                         0                                    0.000000   \n",
       "\n",
       "   flights_15_minutes_early_to_1_minute_early_percent  \\\n",
       "0                                          25.000000    \n",
       "1                                          35.294118    \n",
       "2                                          25.423729    \n",
       "3                                          44.444444    \n",
       "4                                          40.000000    \n",
       "\n",
       "   flights_0_to_15_minutes_late_percent  \\\n",
       "0                              0.000000   \n",
       "1                             23.529412   \n",
       "2                             25.423729   \n",
       "3                             33.333333   \n",
       "4                             20.000000   \n",
       "\n",
       "   flights_between_16_and_30_minutes_late_percent  \\\n",
       "0                                       50.000000   \n",
       "1                                        5.882353   \n",
       "2                                        6.779661   \n",
       "3                                        0.000000   \n",
       "4                                       20.000000   \n",
       "\n",
       "   flights_between_31_and_60_minutes_late_percent  \\\n",
       "0                                       25.000000   \n",
       "1                                        5.882353   \n",
       "2                                       10.169492   \n",
       "3                                       11.111111   \n",
       "4                                       20.000000   \n",
       "\n",
       "   flights_between_61_and_120_minutes_late_percent  \\\n",
       "0                                         0.000000   \n",
       "1                                         0.000000   \n",
       "2                                         6.779661   \n",
       "3                                         0.000000   \n",
       "4                                         0.000000   \n",
       "\n",
       "   flights_between_121_and_180_minutes_late_percent  \\\n",
       "0                                          0.000000   \n",
       "1                                         11.764706   \n",
       "2                                          3.389831   \n",
       "3                                         11.111111   \n",
       "4                                          0.000000   \n",
       "\n",
       "   flights_between_181_and_360_minutes_late_percent  \\\n",
       "0                                          0.000000   \n",
       "1                                          0.000000   \n",
       "2                                          1.694915   \n",
       "3                                          0.000000   \n",
       "4                                          0.000000   \n",
       "\n",
       "   flights_more_than_360_minutes_late_percent  average_delay_mins  \\\n",
       "0                                         0.0                19.0   \n",
       "1                                         0.0                22.0   \n",
       "2                                         0.0                23.0   \n",
       "3                                         0.0                22.0   \n",
       "4                                         0.0                18.0   \n",
       "\n",
       "   arrival_departure_A  arrival_departure_D  scheduled_charter_C  \\\n",
       "0                    0                    1                    0   \n",
       "1                    1                    0                    0   \n",
       "2                    1                    0                    0   \n",
       "3                    0                    1                    1   \n",
       "4                    0                    1                    0   \n",
       "\n",
       "   scheduled_charter_S  \n",
       "0                    1  \n",
       "1                    1  \n",
       "2                    1  \n",
       "3                    0  \n",
       "4                    1  "
      ]
     },
     "execution_count": 14,
     "metadata": {},
     "output_type": "execute_result"
    }
   ],
   "source": [
    "dfn.head()"
   ]
  },
  {
   "cell_type": "code",
   "execution_count": 15,
   "metadata": {},
   "outputs": [],
   "source": [
    "#seperate target and features\n",
    "target = dfn['average_delay_mins']\n",
    "predictors = dfn.drop(['average_delay_mins'], axis=1)"
   ]
  },
  {
   "cell_type": "code",
   "execution_count": 16,
   "metadata": {},
   "outputs": [],
   "source": [
    "#assign values to x and y\n",
    "X = predictors.values\n",
    "y = target.values"
   ]
  },
  {
   "cell_type": "code",
   "execution_count": 17,
   "metadata": {},
   "outputs": [],
   "source": [
    "import tensorflow as tf "
   ]
  },
  {
   "cell_type": "code",
   "execution_count": 18,
   "metadata": {},
   "outputs": [],
   "source": [
    "#standardization of data\n",
    "from sklearn.preprocessing import StandardScaler\n",
    "predictorScaler = StandardScaler()\n",
    "targetScaler = StandardScaler()\n"
   ]
  },
  {
   "cell_type": "code",
   "execution_count": 19,
   "metadata": {},
   "outputs": [],
   "source": [
    "#Storing the fit object for later reference\n",
    "\n",
    "predictorScalerFit = predictorScaler.fit(X)\n",
    "targetScalerFit = targetScaler.fit(y.reshape(-1, 1))"
   ]
  },
  {
   "cell_type": "code",
   "execution_count": 20,
   "metadata": {},
   "outputs": [],
   "source": [
    "#generating the standardized values of X and y using fit\n",
    "X = predictorScalerFit.transform(X)\n",
    "y = targetScalerFit.transform(y.reshape(-1, 1))"
   ]
  },
  {
   "cell_type": "code",
   "execution_count": 21,
   "metadata": {},
   "outputs": [],
   "source": [
    "#split the data into training and testing\n",
    "from sklearn.model_selection import train_test_split\n",
    "X_train, X_test, y_train, y_test = train_test_split(X, y, test_size = 0.3, random_state = 42)"
   ]
  },
  {
   "cell_type": "code",
   "execution_count": 22,
   "metadata": {},
   "outputs": [
    {
     "name": "stdout",
     "output_type": "stream",
     "text": [
      "(4019, 17)\n",
      "(1723, 17)\n",
      "(4019, 1)\n",
      "(1723, 1)\n"
     ]
    }
   ],
   "source": [
    "print(X_train.shape)\n",
    "print(X_test.shape)\n",
    "print(y_train.shape)\n",
    "print(y_test.shape)"
   ]
  },
  {
   "cell_type": "code",
   "execution_count": 24,
   "metadata": {},
   "outputs": [],
   "source": [
    "import numpy as np\n",
    "import pandas as pd \n",
    "import matplotlib.pyplot as plt"
   ]
  },
  {
   "cell_type": "code",
   "execution_count": 25,
   "metadata": {},
   "outputs": [],
   "source": [
    "# To remove the scientific notation from numpy arrays\n",
    "np.set_printoptions(suppress=True)"
   ]
  },
  {
   "cell_type": "code",
   "execution_count": 26,
   "metadata": {},
   "outputs": [
    {
     "ename": "FileNotFoundError",
     "evalue": "[Errno 2] No such file or directory: 'Made2.csv'",
     "output_type": "error",
     "traceback": [
      "\u001b[1;31m---------------------------------------------------------------------------\u001b[0m",
      "\u001b[1;31mFileNotFoundError\u001b[0m                         Traceback (most recent call last)",
      "Cell \u001b[1;32mIn[26], line 2\u001b[0m\n\u001b[0;32m      1\u001b[0m \u001b[38;5;66;03m# Load the data\u001b[39;00m\n\u001b[1;32m----> 2\u001b[0m df \u001b[38;5;241m=\u001b[39m \u001b[43mpd\u001b[49m\u001b[38;5;241;43m.\u001b[39;49m\u001b[43mread_csv\u001b[49m\u001b[43m(\u001b[49m\u001b[38;5;124;43m'\u001b[39;49m\u001b[38;5;124;43mMade2.csv\u001b[39;49m\u001b[38;5;124;43m'\u001b[39;49m\u001b[43m)\u001b[49m\n",
      "File \u001b[1;32md:\\5th sem\\DeepLearnig\\ANN_two\\atemp1\\lib\\site-packages\\pandas\\io\\parsers\\readers.py:1024\u001b[0m, in \u001b[0;36mread_csv\u001b[1;34m(filepath_or_buffer, sep, delimiter, header, names, index_col, usecols, dtype, engine, converters, true_values, false_values, skipinitialspace, skiprows, skipfooter, nrows, na_values, keep_default_na, na_filter, verbose, skip_blank_lines, parse_dates, infer_datetime_format, keep_date_col, date_parser, date_format, dayfirst, cache_dates, iterator, chunksize, compression, thousands, decimal, lineterminator, quotechar, quoting, doublequote, escapechar, comment, encoding, encoding_errors, dialect, on_bad_lines, delim_whitespace, low_memory, memory_map, float_precision, storage_options, dtype_backend)\u001b[0m\n\u001b[0;32m   1011\u001b[0m kwds_defaults \u001b[38;5;241m=\u001b[39m _refine_defaults_read(\n\u001b[0;32m   1012\u001b[0m     dialect,\n\u001b[0;32m   1013\u001b[0m     delimiter,\n\u001b[1;32m   (...)\u001b[0m\n\u001b[0;32m   1020\u001b[0m     dtype_backend\u001b[38;5;241m=\u001b[39mdtype_backend,\n\u001b[0;32m   1021\u001b[0m )\n\u001b[0;32m   1022\u001b[0m kwds\u001b[38;5;241m.\u001b[39mupdate(kwds_defaults)\n\u001b[1;32m-> 1024\u001b[0m \u001b[38;5;28;01mreturn\u001b[39;00m \u001b[43m_read\u001b[49m\u001b[43m(\u001b[49m\u001b[43mfilepath_or_buffer\u001b[49m\u001b[43m,\u001b[49m\u001b[43m \u001b[49m\u001b[43mkwds\u001b[49m\u001b[43m)\u001b[49m\n",
      "File \u001b[1;32md:\\5th sem\\DeepLearnig\\ANN_two\\atemp1\\lib\\site-packages\\pandas\\io\\parsers\\readers.py:618\u001b[0m, in \u001b[0;36m_read\u001b[1;34m(filepath_or_buffer, kwds)\u001b[0m\n\u001b[0;32m    615\u001b[0m _validate_names(kwds\u001b[38;5;241m.\u001b[39mget(\u001b[38;5;124m\"\u001b[39m\u001b[38;5;124mnames\u001b[39m\u001b[38;5;124m\"\u001b[39m, \u001b[38;5;28;01mNone\u001b[39;00m))\n\u001b[0;32m    617\u001b[0m \u001b[38;5;66;03m# Create the parser.\u001b[39;00m\n\u001b[1;32m--> 618\u001b[0m parser \u001b[38;5;241m=\u001b[39m TextFileReader(filepath_or_buffer, \u001b[38;5;241m*\u001b[39m\u001b[38;5;241m*\u001b[39mkwds)\n\u001b[0;32m    620\u001b[0m \u001b[38;5;28;01mif\u001b[39;00m chunksize \u001b[38;5;129;01mor\u001b[39;00m iterator:\n\u001b[0;32m    621\u001b[0m     \u001b[38;5;28;01mreturn\u001b[39;00m parser\n",
      "File \u001b[1;32md:\\5th sem\\DeepLearnig\\ANN_two\\atemp1\\lib\\site-packages\\pandas\\io\\parsers\\readers.py:1618\u001b[0m, in \u001b[0;36mTextFileReader.__init__\u001b[1;34m(self, f, engine, **kwds)\u001b[0m\n\u001b[0;32m   1615\u001b[0m     \u001b[38;5;28mself\u001b[39m\u001b[38;5;241m.\u001b[39moptions[\u001b[38;5;124m\"\u001b[39m\u001b[38;5;124mhas_index_names\u001b[39m\u001b[38;5;124m\"\u001b[39m] \u001b[38;5;241m=\u001b[39m kwds[\u001b[38;5;124m\"\u001b[39m\u001b[38;5;124mhas_index_names\u001b[39m\u001b[38;5;124m\"\u001b[39m]\n\u001b[0;32m   1617\u001b[0m \u001b[38;5;28mself\u001b[39m\u001b[38;5;241m.\u001b[39mhandles: IOHandles \u001b[38;5;241m|\u001b[39m \u001b[38;5;28;01mNone\u001b[39;00m \u001b[38;5;241m=\u001b[39m \u001b[38;5;28;01mNone\u001b[39;00m\n\u001b[1;32m-> 1618\u001b[0m \u001b[38;5;28mself\u001b[39m\u001b[38;5;241m.\u001b[39m_engine \u001b[38;5;241m=\u001b[39m \u001b[38;5;28;43mself\u001b[39;49m\u001b[38;5;241;43m.\u001b[39;49m\u001b[43m_make_engine\u001b[49m\u001b[43m(\u001b[49m\u001b[43mf\u001b[49m\u001b[43m,\u001b[49m\u001b[43m \u001b[49m\u001b[38;5;28;43mself\u001b[39;49m\u001b[38;5;241;43m.\u001b[39;49m\u001b[43mengine\u001b[49m\u001b[43m)\u001b[49m\n",
      "File \u001b[1;32md:\\5th sem\\DeepLearnig\\ANN_two\\atemp1\\lib\\site-packages\\pandas\\io\\parsers\\readers.py:1878\u001b[0m, in \u001b[0;36mTextFileReader._make_engine\u001b[1;34m(self, f, engine)\u001b[0m\n\u001b[0;32m   1876\u001b[0m     \u001b[38;5;28;01mif\u001b[39;00m \u001b[38;5;124m\"\u001b[39m\u001b[38;5;124mb\u001b[39m\u001b[38;5;124m\"\u001b[39m \u001b[38;5;129;01mnot\u001b[39;00m \u001b[38;5;129;01min\u001b[39;00m mode:\n\u001b[0;32m   1877\u001b[0m         mode \u001b[38;5;241m+\u001b[39m\u001b[38;5;241m=\u001b[39m \u001b[38;5;124m\"\u001b[39m\u001b[38;5;124mb\u001b[39m\u001b[38;5;124m\"\u001b[39m\n\u001b[1;32m-> 1878\u001b[0m \u001b[38;5;28mself\u001b[39m\u001b[38;5;241m.\u001b[39mhandles \u001b[38;5;241m=\u001b[39m \u001b[43mget_handle\u001b[49m\u001b[43m(\u001b[49m\n\u001b[0;32m   1879\u001b[0m \u001b[43m    \u001b[49m\u001b[43mf\u001b[49m\u001b[43m,\u001b[49m\n\u001b[0;32m   1880\u001b[0m \u001b[43m    \u001b[49m\u001b[43mmode\u001b[49m\u001b[43m,\u001b[49m\n\u001b[0;32m   1881\u001b[0m \u001b[43m    \u001b[49m\u001b[43mencoding\u001b[49m\u001b[38;5;241;43m=\u001b[39;49m\u001b[38;5;28;43mself\u001b[39;49m\u001b[38;5;241;43m.\u001b[39;49m\u001b[43moptions\u001b[49m\u001b[38;5;241;43m.\u001b[39;49m\u001b[43mget\u001b[49m\u001b[43m(\u001b[49m\u001b[38;5;124;43m\"\u001b[39;49m\u001b[38;5;124;43mencoding\u001b[39;49m\u001b[38;5;124;43m\"\u001b[39;49m\u001b[43m,\u001b[49m\u001b[43m \u001b[49m\u001b[38;5;28;43;01mNone\u001b[39;49;00m\u001b[43m)\u001b[49m\u001b[43m,\u001b[49m\n\u001b[0;32m   1882\u001b[0m \u001b[43m    \u001b[49m\u001b[43mcompression\u001b[49m\u001b[38;5;241;43m=\u001b[39;49m\u001b[38;5;28;43mself\u001b[39;49m\u001b[38;5;241;43m.\u001b[39;49m\u001b[43moptions\u001b[49m\u001b[38;5;241;43m.\u001b[39;49m\u001b[43mget\u001b[49m\u001b[43m(\u001b[49m\u001b[38;5;124;43m\"\u001b[39;49m\u001b[38;5;124;43mcompression\u001b[39;49m\u001b[38;5;124;43m\"\u001b[39;49m\u001b[43m,\u001b[49m\u001b[43m \u001b[49m\u001b[38;5;28;43;01mNone\u001b[39;49;00m\u001b[43m)\u001b[49m\u001b[43m,\u001b[49m\n\u001b[0;32m   1883\u001b[0m \u001b[43m    \u001b[49m\u001b[43mmemory_map\u001b[49m\u001b[38;5;241;43m=\u001b[39;49m\u001b[38;5;28;43mself\u001b[39;49m\u001b[38;5;241;43m.\u001b[39;49m\u001b[43moptions\u001b[49m\u001b[38;5;241;43m.\u001b[39;49m\u001b[43mget\u001b[49m\u001b[43m(\u001b[49m\u001b[38;5;124;43m\"\u001b[39;49m\u001b[38;5;124;43mmemory_map\u001b[39;49m\u001b[38;5;124;43m\"\u001b[39;49m\u001b[43m,\u001b[49m\u001b[43m \u001b[49m\u001b[38;5;28;43;01mFalse\u001b[39;49;00m\u001b[43m)\u001b[49m\u001b[43m,\u001b[49m\n\u001b[0;32m   1884\u001b[0m \u001b[43m    \u001b[49m\u001b[43mis_text\u001b[49m\u001b[38;5;241;43m=\u001b[39;49m\u001b[43mis_text\u001b[49m\u001b[43m,\u001b[49m\n\u001b[0;32m   1885\u001b[0m \u001b[43m    \u001b[49m\u001b[43merrors\u001b[49m\u001b[38;5;241;43m=\u001b[39;49m\u001b[38;5;28;43mself\u001b[39;49m\u001b[38;5;241;43m.\u001b[39;49m\u001b[43moptions\u001b[49m\u001b[38;5;241;43m.\u001b[39;49m\u001b[43mget\u001b[49m\u001b[43m(\u001b[49m\u001b[38;5;124;43m\"\u001b[39;49m\u001b[38;5;124;43mencoding_errors\u001b[39;49m\u001b[38;5;124;43m\"\u001b[39;49m\u001b[43m,\u001b[49m\u001b[43m \u001b[49m\u001b[38;5;124;43m\"\u001b[39;49m\u001b[38;5;124;43mstrict\u001b[39;49m\u001b[38;5;124;43m\"\u001b[39;49m\u001b[43m)\u001b[49m\u001b[43m,\u001b[49m\n\u001b[0;32m   1886\u001b[0m \u001b[43m    \u001b[49m\u001b[43mstorage_options\u001b[49m\u001b[38;5;241;43m=\u001b[39;49m\u001b[38;5;28;43mself\u001b[39;49m\u001b[38;5;241;43m.\u001b[39;49m\u001b[43moptions\u001b[49m\u001b[38;5;241;43m.\u001b[39;49m\u001b[43mget\u001b[49m\u001b[43m(\u001b[49m\u001b[38;5;124;43m\"\u001b[39;49m\u001b[38;5;124;43mstorage_options\u001b[39;49m\u001b[38;5;124;43m\"\u001b[39;49m\u001b[43m,\u001b[49m\u001b[43m \u001b[49m\u001b[38;5;28;43;01mNone\u001b[39;49;00m\u001b[43m)\u001b[49m\u001b[43m,\u001b[49m\n\u001b[0;32m   1887\u001b[0m \u001b[43m\u001b[49m\u001b[43m)\u001b[49m\n\u001b[0;32m   1888\u001b[0m \u001b[38;5;28;01massert\u001b[39;00m \u001b[38;5;28mself\u001b[39m\u001b[38;5;241m.\u001b[39mhandles \u001b[38;5;129;01mis\u001b[39;00m \u001b[38;5;129;01mnot\u001b[39;00m \u001b[38;5;28;01mNone\u001b[39;00m\n\u001b[0;32m   1889\u001b[0m f \u001b[38;5;241m=\u001b[39m \u001b[38;5;28mself\u001b[39m\u001b[38;5;241m.\u001b[39mhandles\u001b[38;5;241m.\u001b[39mhandle\n",
      "File \u001b[1;32md:\\5th sem\\DeepLearnig\\ANN_two\\atemp1\\lib\\site-packages\\pandas\\io\\common.py:873\u001b[0m, in \u001b[0;36mget_handle\u001b[1;34m(path_or_buf, mode, encoding, compression, memory_map, is_text, errors, storage_options)\u001b[0m\n\u001b[0;32m    868\u001b[0m \u001b[38;5;28;01melif\u001b[39;00m \u001b[38;5;28misinstance\u001b[39m(handle, \u001b[38;5;28mstr\u001b[39m):\n\u001b[0;32m    869\u001b[0m     \u001b[38;5;66;03m# Check whether the filename is to be opened in binary mode.\u001b[39;00m\n\u001b[0;32m    870\u001b[0m     \u001b[38;5;66;03m# Binary mode does not support 'encoding' and 'newline'.\u001b[39;00m\n\u001b[0;32m    871\u001b[0m     \u001b[38;5;28;01mif\u001b[39;00m ioargs\u001b[38;5;241m.\u001b[39mencoding \u001b[38;5;129;01mand\u001b[39;00m \u001b[38;5;124m\"\u001b[39m\u001b[38;5;124mb\u001b[39m\u001b[38;5;124m\"\u001b[39m \u001b[38;5;129;01mnot\u001b[39;00m \u001b[38;5;129;01min\u001b[39;00m ioargs\u001b[38;5;241m.\u001b[39mmode:\n\u001b[0;32m    872\u001b[0m         \u001b[38;5;66;03m# Encoding\u001b[39;00m\n\u001b[1;32m--> 873\u001b[0m         handle \u001b[38;5;241m=\u001b[39m \u001b[38;5;28;43mopen\u001b[39;49m\u001b[43m(\u001b[49m\n\u001b[0;32m    874\u001b[0m \u001b[43m            \u001b[49m\u001b[43mhandle\u001b[49m\u001b[43m,\u001b[49m\n\u001b[0;32m    875\u001b[0m \u001b[43m            \u001b[49m\u001b[43mioargs\u001b[49m\u001b[38;5;241;43m.\u001b[39;49m\u001b[43mmode\u001b[49m\u001b[43m,\u001b[49m\n\u001b[0;32m    876\u001b[0m \u001b[43m            \u001b[49m\u001b[43mencoding\u001b[49m\u001b[38;5;241;43m=\u001b[39;49m\u001b[43mioargs\u001b[49m\u001b[38;5;241;43m.\u001b[39;49m\u001b[43mencoding\u001b[49m\u001b[43m,\u001b[49m\n\u001b[0;32m    877\u001b[0m \u001b[43m            \u001b[49m\u001b[43merrors\u001b[49m\u001b[38;5;241;43m=\u001b[39;49m\u001b[43merrors\u001b[49m\u001b[43m,\u001b[49m\n\u001b[0;32m    878\u001b[0m \u001b[43m            \u001b[49m\u001b[43mnewline\u001b[49m\u001b[38;5;241;43m=\u001b[39;49m\u001b[38;5;124;43m\"\u001b[39;49m\u001b[38;5;124;43m\"\u001b[39;49m\u001b[43m,\u001b[49m\n\u001b[0;32m    879\u001b[0m \u001b[43m        \u001b[49m\u001b[43m)\u001b[49m\n\u001b[0;32m    880\u001b[0m     \u001b[38;5;28;01melse\u001b[39;00m:\n\u001b[0;32m    881\u001b[0m         \u001b[38;5;66;03m# Binary mode\u001b[39;00m\n\u001b[0;32m    882\u001b[0m         handle \u001b[38;5;241m=\u001b[39m \u001b[38;5;28mopen\u001b[39m(handle, ioargs\u001b[38;5;241m.\u001b[39mmode)\n",
      "\u001b[1;31mFileNotFoundError\u001b[0m: [Errno 2] No such file or directory: 'Made2.csv'"
     ]
    }
   ],
   "source": [
    "# Load the data\n",
    "df = pd.read_csv('Made2.csv')\n"
   ]
  },
  {
   "cell_type": "code",
   "execution_count": null,
   "metadata": {},
   "outputs": [],
   "source": [
    "#remove origin_destination_country\n",
    "\n",
    "df = df.drop(['origin_destination_country'], axis=1)"
   ]
  },
  {
   "cell_type": "code",
   "execution_count": null,
   "metadata": {},
   "outputs": [],
   "source": [
    "#select only numerics\n",
    "dfn = df.select_dtypes(include=[np.number])"
   ]
  },
  {
   "cell_type": "code",
   "execution_count": null,
   "metadata": {},
   "outputs": [],
   "source": [
    "#convert these columns to numeric using OneHotEncoding\n",
    "#use 1,0 for True, False\n",
    "df = pd.get_dummies(df, columns=['arrival_departure','scheduled_charter'])\n",
    "\n",
    "#drop the columns that are not needed\n",
    "df = df.drop(columns=['flights_unmatched_percent', 'flights_cancelled_percent'], axis=1)"
   ]
  },
  {
   "cell_type": "code",
   "execution_count": null,
   "metadata": {},
   "outputs": [],
   "source": [
    "#replace 1,0 for True, False for arrival_departure_D column\n",
    "df['arrival_departure_A'] = df['arrival_departure_A'].replace({True: 1, False: 0})\n",
    "df['arrival_departure_D'] = df['arrival_departure_D'].replace({True: 1, False: 0})\n",
    "df['scheduled_charter_C'] = df['scheduled_charter_C'].replace({True: 1, False: 0})\n",
    "df['scheduled_charter_S'] = df['scheduled_charter_S'].replace({True: 1, False: 0})"
   ]
  },
  {
   "cell_type": "code",
   "execution_count": null,
   "metadata": {},
   "outputs": [
    {
     "data": {
      "text/plain": [
       "airline_name\n",
       "RYANAIR                    12472\n",
       "EASYJET UK LTD             10595\n",
       "TUI AIRWAYS LTD             8609\n",
       "BRITISH AIRWAYS PLC         6148\n",
       "JET2.COM LTD                6072\n",
       "                           ...  \n",
       "HOP - BRIT AIR                 1\n",
       "JET TIME                       1\n",
       "WORLD2FLY PORTUGAL             1\n",
       "JAZEERA AIRWAYS K.S.C.P        1\n",
       "STAR EAST AIRLINES             1\n",
       "Name: count, Length: 262, dtype: int64"
      ]
     },
     "metadata": {},
     "output_type": "display_data"
    }
   ],
   "source": [
    "#show the airlines by its count\n",
    "airlines_count = df['airline_name'].value_counts()\n",
    "\n",
    "airlines_count"
   ]
  },
  {
   "cell_type": "code",
   "execution_count": null,
   "metadata": {},
   "outputs": [
    {
     "data": {
      "text/plain": [
       "(43896, 21)"
      ]
     },
     "metadata": {},
     "output_type": "display_data"
    }
   ],
   "source": [
    "#subset airlines that have count greater than 100\n",
    "df_100 = df[df['airline_name'].isin(airlines_count[airlines_count > 5000].index)]\n",
    "\n",
    "df_100.shape"
   ]
  },
  {
   "cell_type": "code",
   "execution_count": null,
   "metadata": {},
   "outputs": [
    {
     "name": "stdout",
     "output_type": "stream",
     "text": [
      "(5742, 21)\n"
     ]
    }
   ],
   "source": [
    "# Remove duplicates based on the 'origin' and 'destination' and 'airline_name' columns\n",
    "df_deduped = df.drop_duplicates(subset=['reporting_airport', 'origin_destination','airline_name'])\n",
    "\n",
    "# Print the shape of the deduplicated DataFrame\n",
    "print(df_deduped.shape)"
   ]
  },
  {
   "cell_type": "code",
   "execution_count": null,
   "metadata": {},
   "outputs": [
    {
     "name": "stderr",
     "output_type": "stream",
     "text": [
      "C:\\Users\\dkout\\AppData\\Local\\Temp\\ipykernel_9848\\323433510.py:3: SettingWithCopyWarning: \n",
      "A value is trying to be set on a copy of a slice from a DataFrame.\n",
      "Try using .loc[row_indexer,col_indexer] = value instead\n",
      "\n",
      "See the caveats in the documentation: https://pandas.pydata.org/pandas-docs/stable/user_guide/indexing.html#returning-a-view-versus-a-copy\n",
      "  df_deduped['journey'] = df_deduped['reporting_airport'] + ', ' + df_deduped['origin_destination']\n"
     ]
    }
   ],
   "source": [
    "#combine reporting_airport and origin_destination columns as Journey\n",
    "from pandas import DataFrame, merge\n",
    "df_deduped['journey'] = df_deduped['reporting_airport'] + ', ' + df_deduped['origin_destination']"
   ]
  },
  {
   "cell_type": "code",
   "execution_count": null,
   "metadata": {},
   "outputs": [
    {
     "name": "stderr",
     "output_type": "stream",
     "text": [
      "C:\\Users\\dkout\\AppData\\Local\\Temp\\ipykernel_9848\\1541931187.py:8: SettingWithCopyWarning: \n",
      "A value is trying to be set on a copy of a slice from a DataFrame.\n",
      "Try using .loc[row_indexer,col_indexer] = value instead\n",
      "\n",
      "See the caveats in the documentation: https://pandas.pydata.org/pandas-docs/stable/user_guide/indexing.html#returning-a-view-versus-a-copy\n",
      "  df_deduped['journey'] = df_deduped['journey'].apply(remove_parentheses_contents)\n"
     ]
    }
   ],
   "source": [
    "#remove strings in the parentheses\n",
    "\n",
    "import re\n",
    "\n",
    "def remove_parentheses_contents(text):\n",
    "    return re.sub(r'\\(.*?\\)', '', text).strip().replace(',,', ',')\n",
    "\n",
    "df_deduped['journey'] = df_deduped['journey'].apply(remove_parentheses_contents)"
   ]
  },
  {
   "cell_type": "code",
   "execution_count": null,
   "metadata": {},
   "outputs": [
    {
     "data": {
      "text/html": [
       "<div>\n",
       "<style scoped>\n",
       "    .dataframe tbody tr th:only-of-type {\n",
       "        vertical-align: middle;\n",
       "    }\n",
       "\n",
       "    .dataframe tbody tr th {\n",
       "        vertical-align: top;\n",
       "    }\n",
       "\n",
       "    .dataframe thead th {\n",
       "        text-align: right;\n",
       "    }\n",
       "</style>\n",
       "<table border=\"1\" class=\"dataframe\">\n",
       "  <thead>\n",
       "    <tr style=\"text-align: right;\">\n",
       "      <th></th>\n",
       "      <th>reporting_period</th>\n",
       "      <th>reporting_airport</th>\n",
       "      <th>origin_destination</th>\n",
       "      <th>airline_name</th>\n",
       "      <th>number_flights_matched</th>\n",
       "      <th>actual_flights_unmatched</th>\n",
       "      <th>number_flights_cancelled</th>\n",
       "      <th>flights_more_than_15_minutes_early_percent</th>\n",
       "      <th>flights_15_minutes_early_to_1_minute_early_percent</th>\n",
       "      <th>flights_0_to_15_minutes_late_percent</th>\n",
       "      <th>...</th>\n",
       "      <th>flights_between_61_and_120_minutes_late_percent</th>\n",
       "      <th>flights_between_121_and_180_minutes_late_percent</th>\n",
       "      <th>flights_between_181_and_360_minutes_late_percent</th>\n",
       "      <th>flights_more_than_360_minutes_late_percent</th>\n",
       "      <th>average_delay_mins</th>\n",
       "      <th>arrival_departure_A</th>\n",
       "      <th>arrival_departure_D</th>\n",
       "      <th>scheduled_charter_C</th>\n",
       "      <th>scheduled_charter_S</th>\n",
       "      <th>journey</th>\n",
       "    </tr>\n",
       "  </thead>\n",
       "  <tbody>\n",
       "    <tr>\n",
       "      <th>0</th>\n",
       "      <td>202201</td>\n",
       "      <td>ABERDEEN</td>\n",
       "      <td>GDANSK</td>\n",
       "      <td>WIZZ AIR</td>\n",
       "      <td>4</td>\n",
       "      <td>0</td>\n",
       "      <td>0</td>\n",
       "      <td>0.000000</td>\n",
       "      <td>25.000000</td>\n",
       "      <td>0.000000</td>\n",
       "      <td>...</td>\n",
       "      <td>0.000000</td>\n",
       "      <td>0.000000</td>\n",
       "      <td>0.000000</td>\n",
       "      <td>0.0</td>\n",
       "      <td>19.0</td>\n",
       "      <td>0</td>\n",
       "      <td>1</td>\n",
       "      <td>0</td>\n",
       "      <td>1</td>\n",
       "      <td>ABERDEEN, GDANSK</td>\n",
       "    </tr>\n",
       "    <tr>\n",
       "      <th>1</th>\n",
       "      <td>202201</td>\n",
       "      <td>ABERDEEN</td>\n",
       "      <td>BELFAST CITY (GEORGE BEST)</td>\n",
       "      <td>LOGANAIR LTD</td>\n",
       "      <td>17</td>\n",
       "      <td>0</td>\n",
       "      <td>0</td>\n",
       "      <td>17.647059</td>\n",
       "      <td>35.294118</td>\n",
       "      <td>23.529412</td>\n",
       "      <td>...</td>\n",
       "      <td>0.000000</td>\n",
       "      <td>11.764706</td>\n",
       "      <td>0.000000</td>\n",
       "      <td>0.0</td>\n",
       "      <td>22.0</td>\n",
       "      <td>1</td>\n",
       "      <td>0</td>\n",
       "      <td>0</td>\n",
       "      <td>1</td>\n",
       "      <td>ABERDEEN, BELFAST CITY</td>\n",
       "    </tr>\n",
       "    <tr>\n",
       "      <th>3</th>\n",
       "      <td>202201</td>\n",
       "      <td>ABERDEEN</td>\n",
       "      <td>SUMBURGH</td>\n",
       "      <td>LOGANAIR LTD</td>\n",
       "      <td>56</td>\n",
       "      <td>0</td>\n",
       "      <td>3</td>\n",
       "      <td>15.254237</td>\n",
       "      <td>25.423729</td>\n",
       "      <td>25.423729</td>\n",
       "      <td>...</td>\n",
       "      <td>6.779661</td>\n",
       "      <td>3.389831</td>\n",
       "      <td>1.694915</td>\n",
       "      <td>0.0</td>\n",
       "      <td>23.0</td>\n",
       "      <td>1</td>\n",
       "      <td>0</td>\n",
       "      <td>0</td>\n",
       "      <td>1</td>\n",
       "      <td>ABERDEEN, SUMBURGH</td>\n",
       "    </tr>\n",
       "    <tr>\n",
       "      <th>4</th>\n",
       "      <td>202201</td>\n",
       "      <td>ABERDEEN</td>\n",
       "      <td>TENERIFE (SURREINA SOFIA)</td>\n",
       "      <td>TUI AIRWAYS LTD</td>\n",
       "      <td>9</td>\n",
       "      <td>0</td>\n",
       "      <td>0</td>\n",
       "      <td>0.000000</td>\n",
       "      <td>44.444444</td>\n",
       "      <td>33.333333</td>\n",
       "      <td>...</td>\n",
       "      <td>0.000000</td>\n",
       "      <td>11.111111</td>\n",
       "      <td>0.000000</td>\n",
       "      <td>0.0</td>\n",
       "      <td>22.0</td>\n",
       "      <td>0</td>\n",
       "      <td>1</td>\n",
       "      <td>1</td>\n",
       "      <td>0</td>\n",
       "      <td>ABERDEEN, TENERIFE</td>\n",
       "    </tr>\n",
       "    <tr>\n",
       "      <th>5</th>\n",
       "      <td>202201</td>\n",
       "      <td>ABERDEEN</td>\n",
       "      <td>GENEVA</td>\n",
       "      <td>EASYJET UK LTD</td>\n",
       "      <td>5</td>\n",
       "      <td>0</td>\n",
       "      <td>0</td>\n",
       "      <td>0.000000</td>\n",
       "      <td>40.000000</td>\n",
       "      <td>20.000000</td>\n",
       "      <td>...</td>\n",
       "      <td>0.000000</td>\n",
       "      <td>0.000000</td>\n",
       "      <td>0.000000</td>\n",
       "      <td>0.0</td>\n",
       "      <td>18.0</td>\n",
       "      <td>0</td>\n",
       "      <td>1</td>\n",
       "      <td>0</td>\n",
       "      <td>1</td>\n",
       "      <td>ABERDEEN, GENEVA</td>\n",
       "    </tr>\n",
       "  </tbody>\n",
       "</table>\n",
       "<p>5 rows × 22 columns</p>\n",
       "</div>"
      ],
      "text/plain": [
       "   reporting_period reporting_airport          origin_destination  \\\n",
       "0            202201          ABERDEEN                      GDANSK   \n",
       "1            202201          ABERDEEN  BELFAST CITY (GEORGE BEST)   \n",
       "3            202201          ABERDEEN                    SUMBURGH   \n",
       "4            202201          ABERDEEN   TENERIFE (SURREINA SOFIA)   \n",
       "5            202201          ABERDEEN                      GENEVA   \n",
       "\n",
       "      airline_name  number_flights_matched  actual_flights_unmatched  \\\n",
       "0         WIZZ AIR                       4                         0   \n",
       "1     LOGANAIR LTD                      17                         0   \n",
       "3     LOGANAIR LTD                      56                         0   \n",
       "4  TUI AIRWAYS LTD                       9                         0   \n",
       "5   EASYJET UK LTD                       5                         0   \n",
       "\n",
       "   number_flights_cancelled  flights_more_than_15_minutes_early_percent  \\\n",
       "0                         0                                    0.000000   \n",
       "1                         0                                   17.647059   \n",
       "3                         3                                   15.254237   \n",
       "4                         0                                    0.000000   \n",
       "5                         0                                    0.000000   \n",
       "\n",
       "   flights_15_minutes_early_to_1_minute_early_percent  \\\n",
       "0                                          25.000000    \n",
       "1                                          35.294118    \n",
       "3                                          25.423729    \n",
       "4                                          44.444444    \n",
       "5                                          40.000000    \n",
       "\n",
       "   flights_0_to_15_minutes_late_percent  ...  \\\n",
       "0                              0.000000  ...   \n",
       "1                             23.529412  ...   \n",
       "3                             25.423729  ...   \n",
       "4                             33.333333  ...   \n",
       "5                             20.000000  ...   \n",
       "\n",
       "   flights_between_61_and_120_minutes_late_percent  \\\n",
       "0                                         0.000000   \n",
       "1                                         0.000000   \n",
       "3                                         6.779661   \n",
       "4                                         0.000000   \n",
       "5                                         0.000000   \n",
       "\n",
       "   flights_between_121_and_180_minutes_late_percent  \\\n",
       "0                                          0.000000   \n",
       "1                                         11.764706   \n",
       "3                                          3.389831   \n",
       "4                                         11.111111   \n",
       "5                                          0.000000   \n",
       "\n",
       "   flights_between_181_and_360_minutes_late_percent  \\\n",
       "0                                          0.000000   \n",
       "1                                          0.000000   \n",
       "3                                          1.694915   \n",
       "4                                          0.000000   \n",
       "5                                          0.000000   \n",
       "\n",
       "   flights_more_than_360_minutes_late_percent  average_delay_mins  \\\n",
       "0                                         0.0                19.0   \n",
       "1                                         0.0                22.0   \n",
       "3                                         0.0                23.0   \n",
       "4                                         0.0                22.0   \n",
       "5                                         0.0                18.0   \n",
       "\n",
       "   arrival_departure_A  arrival_departure_D  scheduled_charter_C  \\\n",
       "0                    0                    1                    0   \n",
       "1                    1                    0                    0   \n",
       "3                    1                    0                    0   \n",
       "4                    0                    1                    1   \n",
       "5                    0                    1                    0   \n",
       "\n",
       "   scheduled_charter_S                 journey  \n",
       "0                    1        ABERDEEN, GDANSK  \n",
       "1                    1  ABERDEEN, BELFAST CITY  \n",
       "3                    1      ABERDEEN, SUMBURGH  \n",
       "4                    0      ABERDEEN, TENERIFE  \n",
       "5                    1        ABERDEEN, GENEVA  \n",
       "\n",
       "[5 rows x 22 columns]"
      ]
     },
     "metadata": {},
     "output_type": "display_data"
    }
   ],
   "source": [
    "df_deduped.head()"
   ]
  },
  {
   "cell_type": "code",
   "execution_count": null,
   "metadata": {},
   "outputs": [],
   "source": [
    "#remove the columns that are not needed\n",
    "df_deduped = df_deduped.drop(['reporting_airport','origin_destination'], axis=1)"
   ]
  },
  {
   "cell_type": "code",
   "execution_count": null,
   "metadata": {},
   "outputs": [
    {
     "ename": "NameError",
     "evalue": "name 'df_deduped' is not defined",
     "output_type": "error",
     "traceback": [
      "\u001b[1;31m---------------------------------------------------------------------------\u001b[0m",
      "\u001b[1;31mNameError\u001b[0m                                 Traceback (most recent call last)",
      "Cell \u001b[1;32mIn[9], line 1\u001b[0m\n\u001b[1;32m----> 1\u001b[0m dfn \u001b[38;5;241m=\u001b[39m \u001b[43mdf_deduped\u001b[49m\u001b[38;5;241m.\u001b[39mselect_dtypes(include\u001b[38;5;241m=\u001b[39m[np\u001b[38;5;241m.\u001b[39mnumber])\n\u001b[0;32m      2\u001b[0m dfn\u001b[38;5;241m.\u001b[39mhead()\n",
      "\u001b[1;31mNameError\u001b[0m: name 'df_deduped' is not defined"
     ]
    }
   ],
   "source": [
    "\n",
    "dfn = df_deduped.select_dtypes(include=[np.number])\n",
    "dfn.head()"
   ]
  },
  {
   "cell_type": "code",
   "execution_count": null,
   "metadata": {},
   "outputs": [],
   "source": [
    "#export to csv\n",
    "dfn.to_csv('clean.csv', index=False)"
   ]
  },
  {
   "cell_type": "code",
   "execution_count": null,
   "metadata": {},
   "outputs": [],
   "source": [
    "#seperate target and features\n",
    "target = dfn['average_delay_mins']\n",
    "predictors = dfn.drop(['average_delay_mins'], axis=1)"
   ]
  },
  {
   "cell_type": "code",
   "execution_count": null,
   "metadata": {},
   "outputs": [],
   "source": [
    "#assign values to x and y\n",
    "X = predictors.values\n",
    "y = target.values"
   ]
  },
  {
   "cell_type": "code",
   "execution_count": null,
   "metadata": {},
   "outputs": [],
   "source": [
    "#install sk-learn library\n",
    "#%pip install scikit-learn"
   ]
  },
  {
   "cell_type": "code",
   "execution_count": null,
   "metadata": {},
   "outputs": [],
   "source": [
    "#standardization of data\n",
    "from sklearn.preprocessing import StandardScaler\n",
    "predictorScaler = StandardScaler()\n",
    "targetScaler = StandardScaler()\n"
   ]
  },
  {
   "cell_type": "code",
   "execution_count": null,
   "metadata": {},
   "outputs": [],
   "source": [
    "#Storing the fit object for later reference\n",
    "\n",
    "predictorScalerFit = predictorScaler.fit(X)\n",
    "targetScalerFit = targetScaler.fit(y.reshape(-1, 1))"
   ]
  },
  {
   "cell_type": "code",
   "execution_count": null,
   "metadata": {},
   "outputs": [],
   "source": [
    "#generating the standardized values of X and y\n",
    "X = predictorScalerFit.transform(X)\n",
    "y = targetScalerFit.transform(y.reshape(-1, 1))"
   ]
  },
  {
   "cell_type": "code",
   "execution_count": null,
   "metadata": {},
   "outputs": [],
   "source": [
    "#split the data into training and testing\n",
    "from sklearn.model_selection import train_test_split\n",
    "X_train, X_test, y_train, y_test = train_test_split(X, y, test_size = 0.3, random_state = 42)"
   ]
  },
  {
   "cell_type": "code",
   "execution_count": null,
   "metadata": {},
   "outputs": [
    {
     "name": "stdout",
     "output_type": "stream",
     "text": [
      "(4019, 17)\n",
      "(1723, 17)\n",
      "(4019, 1)\n",
      "(1723, 1)\n"
     ]
    }
   ],
   "source": [
    "print(X_train.shape)\n",
    "print(X_test.shape)\n",
    "print(y_train.shape)\n",
    "\n",
    "print(y_test.shape)"
   ]
  },
  {
   "cell_type": "code",
   "execution_count": null,
   "metadata": {},
   "outputs": [],
   "source": [
    "#install tensorflow \n",
    "#!pip install tensorflow"
   ]
  },
  {
   "cell_type": "code",
   "execution_count": null,
   "metadata": {},
   "outputs": [],
   "source": [
    "#install libraries\n",
    "#!pip install keras"
   ]
  },
  {
   "cell_type": "markdown",
   "metadata": {},
   "source": [
    "# Building the network"
   ]
  },
  {
   "cell_type": "code",
   "execution_count": null,
   "metadata": {},
   "outputs": [
    {
     "name": "stdout",
     "output_type": "stream",
     "text": [
      "WARNING:tensorflow:From C:\\Users\\dkout\\AppData\\Roaming\\Python\\Python311\\site-packages\\keras\\src\\losses.py:2976: The name tf.losses.sparse_softmax_cross_entropy is deprecated. Please use tf.compat.v1.losses.sparse_softmax_cross_entropy instead.\n",
      "\n"
     ]
    }
   ],
   "source": [
    "from keras import layers\n",
    "from keras.models import Sequential"
   ]
  },
  {
   "cell_type": "code",
   "execution_count": null,
   "metadata": {},
   "outputs": [],
   "source": [
    "import tensorflow as tf"
   ]
  },
  {
   "cell_type": "code",
   "execution_count": null,
   "metadata": {},
   "outputs": [],
   "source": [
    "# importing the libraries\n",
    "from tensorflow import keras\n",
    "#from tensorflow.keras import layers \n",
    "from keras.models import Sequential\n",
    "from keras.layers import Dense"
   ]
  },
  {
   "cell_type": "code",
   "execution_count": null,
   "metadata": {},
   "outputs": [],
   "source": [
    "# Define number of features\n",
    "num_features = 17"
   ]
  },
  {
   "cell_type": "code",
   "execution_count": null,
   "metadata": {},
   "outputs": [
    {
     "name": "stdout",
     "output_type": "stream",
     "text": [
      "WARNING:tensorflow:From C:\\Users\\dkout\\AppData\\Roaming\\Python\\Python311\\site-packages\\keras\\src\\backend.py:873: The name tf.get_default_graph is deprecated. Please use tf.compat.v1.get_default_graph instead.\n",
      "\n"
     ]
    }
   ],
   "source": [
    "# create ANN model\n",
    "model = Sequential()"
   ]
  },
  {
   "cell_type": "code",
   "execution_count": null,
   "metadata": {},
   "outputs": [],
   "source": [
    "# Defining the Input layer and FIRST hidden layer, both are same!\n",
    "model.add(Dense(units=5, input_dim=num_features, kernel_initializer='normal', activation='relu'))"
   ]
  },
  {
   "cell_type": "code",
   "execution_count": null,
   "metadata": {},
   "outputs": [],
   "source": [
    "# Defining the Second layer of the model\n",
    "# after the first layer we don't have to specify input_dim as keras configure it automatically\n",
    "model.add(Dense(units=5, kernel_initializer='normal', activation='tanh'))"
   ]
  },
  {
   "cell_type": "code",
   "execution_count": null,
   "metadata": {},
   "outputs": [],
   "source": [
    "# Defining the Second layer of the model\n",
    "# after the first layer we don't have to specify input_dim as keras configure it automatically\n",
    "model.add(Dense(units=5, kernel_initializer='normal', activation='tanh'))"
   ]
  },
  {
   "cell_type": "code",
   "execution_count": null,
   "metadata": {},
   "outputs": [],
   "source": [
    "# The output neuron is a single fully connected node \n",
    "# Since we will be predicting a single number\n",
    "model.add(Dense(1, kernel_initializer='normal'))"
   ]
  },
  {
   "cell_type": "code",
   "execution_count": null,
   "metadata": {},
   "outputs": [
    {
     "name": "stdout",
     "output_type": "stream",
     "text": [
      "WARNING:tensorflow:From C:\\Users\\dkout\\AppData\\Roaming\\Python\\Python311\\site-packages\\keras\\src\\optimizers\\__init__.py:309: The name tf.train.Optimizer is deprecated. Please use tf.compat.v1.train.Optimizer instead.\n",
      "\n"
     ]
    }
   ],
   "source": [
    "# Compiling the model\n",
    "model.compile(loss='mean_squared_error', optimizer='adam')"
   ]
  },
  {
   "cell_type": "code",
   "execution_count": null,
   "metadata": {},
   "outputs": [
    {
     "name": "stdout",
     "output_type": "stream",
     "text": [
      "Epoch 1/50\n",
      "WARNING:tensorflow:From C:\\Users\\dkout\\AppData\\Roaming\\Python\\Python311\\site-packages\\keras\\src\\utils\\tf_utils.py:492: The name tf.ragged.RaggedTensorValue is deprecated. Please use tf.compat.v1.ragged.RaggedTensorValue instead.\n",
      "\n"
     ]
    },
    {
     "name": "stdout",
     "output_type": "stream",
     "text": [
      "201/201 [==============================] - 1s 1ms/step - loss: 0.7626\n",
      "Epoch 2/50\n",
      "201/201 [==============================] - 0s 1ms/step - loss: 0.5095\n",
      "Epoch 3/50\n",
      "201/201 [==============================] - 0s 1ms/step - loss: 0.4294\n",
      "Epoch 4/50\n",
      "201/201 [==============================] - 0s 1ms/step - loss: 0.3888\n",
      "Epoch 5/50\n",
      "201/201 [==============================] - 0s 1ms/step - loss: 0.3646\n",
      "Epoch 6/50\n",
      "201/201 [==============================] - 0s 1ms/step - loss: 0.3474\n",
      "Epoch 7/50\n",
      "201/201 [==============================] - 0s 1ms/step - loss: 0.3338\n",
      "Epoch 8/50\n",
      "201/201 [==============================] - 0s 1ms/step - loss: 0.3209\n",
      "Epoch 9/50\n",
      "201/201 [==============================] - 0s 1ms/step - loss: 0.3106\n",
      "Epoch 10/50\n",
      "201/201 [==============================] - 0s 1ms/step - loss: 0.3029\n",
      "Epoch 11/50\n",
      "201/201 [==============================] - 0s 1ms/step - loss: 0.2957\n",
      "Epoch 12/50\n",
      "201/201 [==============================] - 0s 1ms/step - loss: 0.2884\n",
      "Epoch 13/50\n",
      "201/201 [==============================] - 0s 1ms/step - loss: 0.2820\n",
      "Epoch 14/50\n",
      "201/201 [==============================] - 0s 2ms/step - loss: 0.2762\n",
      "Epoch 15/50\n",
      "201/201 [==============================] - 0s 1ms/step - loss: 0.2705\n",
      "Epoch 16/50\n",
      "201/201 [==============================] - 0s 1ms/step - loss: 0.2652\n",
      "Epoch 17/50\n",
      "201/201 [==============================] - 0s 1ms/step - loss: 0.2610\n",
      "Epoch 18/50\n",
      "201/201 [==============================] - 0s 1ms/step - loss: 0.2557\n",
      "Epoch 19/50\n",
      "201/201 [==============================] - 0s 2ms/step - loss: 0.2512\n",
      "Epoch 20/50\n",
      "201/201 [==============================] - 0s 1ms/step - loss: 0.2475\n",
      "Epoch 21/50\n",
      "201/201 [==============================] - 0s 1ms/step - loss: 0.2434\n",
      "Epoch 22/50\n",
      "201/201 [==============================] - 0s 1ms/step - loss: 0.2388\n",
      "Epoch 23/50\n",
      "201/201 [==============================] - 0s 1ms/step - loss: 0.2366\n",
      "Epoch 24/50\n",
      "201/201 [==============================] - 0s 2ms/step - loss: 0.2319\n",
      "Epoch 25/50\n",
      "201/201 [==============================] - 0s 1ms/step - loss: 0.2287\n",
      "Epoch 26/50\n",
      "201/201 [==============================] - 0s 1ms/step - loss: 0.2272\n",
      "Epoch 27/50\n",
      "201/201 [==============================] - 0s 1ms/step - loss: 0.2240\n",
      "Epoch 28/50\n",
      "201/201 [==============================] - 0s 1ms/step - loss: 0.2219\n",
      "Epoch 29/50\n",
      "201/201 [==============================] - 0s 1ms/step - loss: 0.2185\n",
      "Epoch 30/50\n",
      "201/201 [==============================] - 0s 2ms/step - loss: 0.2168\n",
      "Epoch 31/50\n",
      "201/201 [==============================] - 0s 2ms/step - loss: 0.2137\n",
      "Epoch 32/50\n",
      "201/201 [==============================] - 0s 1ms/step - loss: 0.2107\n",
      "Epoch 33/50\n",
      "201/201 [==============================] - 0s 1ms/step - loss: 0.2105\n",
      "Epoch 34/50\n",
      "201/201 [==============================] - 0s 1ms/step - loss: 0.2075\n",
      "Epoch 35/50\n",
      "201/201 [==============================] - 0s 1ms/step - loss: 0.2055\n",
      "Epoch 36/50\n",
      "201/201 [==============================] - 0s 2ms/step - loss: 0.2033\n",
      "Epoch 37/50\n",
      "201/201 [==============================] - 0s 1ms/step - loss: 0.2021\n",
      "Epoch 38/50\n",
      "201/201 [==============================] - 0s 1ms/step - loss: 0.2008\n",
      "Epoch 39/50\n",
      "201/201 [==============================] - 0s 1ms/step - loss: 0.1985\n",
      "Epoch 40/50\n",
      "201/201 [==============================] - 0s 1ms/step - loss: 0.1984\n",
      "Epoch 41/50\n",
      "201/201 [==============================] - 0s 2ms/step - loss: 0.1961\n",
      "Epoch 42/50\n",
      "201/201 [==============================] - 0s 1ms/step - loss: 0.1956\n",
      "Epoch 43/50\n",
      "201/201 [==============================] - 0s 1ms/step - loss: 0.1940\n",
      "Epoch 44/50\n",
      "201/201 [==============================] - 0s 1ms/step - loss: 0.1910\n",
      "Epoch 45/50\n",
      "201/201 [==============================] - 0s 1ms/step - loss: 0.1905\n",
      "Epoch 46/50\n",
      "201/201 [==============================] - 0s 2ms/step - loss: 0.1893\n",
      "Epoch 47/50\n",
      "201/201 [==============================] - 0s 1ms/step - loss: 0.1877\n",
      "Epoch 48/50\n",
      "201/201 [==============================] - 0s 1ms/step - loss: 0.1876\n",
      "Epoch 49/50\n",
      "201/201 [==============================] - 0s 1ms/step - loss: 0.1861\n",
      "Epoch 50/50\n",
      "201/201 [==============================] - 0s 1ms/step - loss: 0.1850\n"
     ]
    },
    {
     "data": {
      "text/plain": [
       "<keras.src.callbacks.History at 0x21d9313a350>"
      ]
     },
     "metadata": {},
     "output_type": "display_data"
    }
   ],
   "source": [
    "# Fitting the ANN to the Training set\n",
    "model.fit(X_train, y_train, \n",
    "        batch_size = 20, \n",
    "        epochs = 50, verbose=1)"
   ]
  },
  {
   "cell_type": "markdown",
   "metadata": {},
   "source": [
    "# Finding best parameters using manual grid search"
   ]
  },
  {
   "cell_type": "code",
   "execution_count": null,
   "metadata": {},
   "outputs": [
    {
     "name": "stdout",
     "output_type": "stream",
     "text": [
      "54/54 [==============================] - 0s 1ms/step\n",
      "1 Parameters: batch_size: 5 - epochs: 5 Accuracy: 66.52603854527806\n",
      "54/54 [==============================] - 0s 1ms/step\n",
      "2 Parameters: batch_size: 5 - epochs: 10 Accuracy: 49.99631463818439\n",
      "54/54 [==============================] - 0s 2ms/step\n",
      "3 Parameters: batch_size: 5 - epochs: 50 Accuracy: 76.06227524481167\n",
      "54/54 [==============================] - 0s 1ms/step\n",
      "4 Parameters: batch_size: 5 - epochs: 100 Accuracy: 74.69568004387449\n",
      "54/54 [==============================] - 0s 1ms/step\n",
      "5 Parameters: batch_size: 10 - epochs: 5 Accuracy: 65.10666320145192\n",
      "54/54 [==============================] - 0s 1ms/step\n",
      "6 Parameters: batch_size: 10 - epochs: 10 Accuracy: 65.46356269636502\n",
      "54/54 [==============================] - 0s 1ms/step\n",
      "7 Parameters: batch_size: 10 - epochs: 50 Accuracy: 75.34773774158045\n",
      "54/54 [==============================] - 0s 2ms/step\n",
      "8 Parameters: batch_size: 10 - epochs: 100 Accuracy: 79.00681464178489\n",
      "54/54 [==============================] - 0s 1ms/step\n",
      "9 Parameters: batch_size: 15 - epochs: 5 Accuracy: 57.74481432454221\n",
      "54/54 [==============================] - 0s 2ms/step\n",
      "10 Parameters: batch_size: 15 - epochs: 10 Accuracy: 68.19011909422245\n",
      "54/54 [==============================] - 0s 2ms/step\n",
      "11 Parameters: batch_size: 15 - epochs: 50 Accuracy: 79.54379345013334\n",
      "54/54 [==============================] - 0s 2ms/step\n",
      "12 Parameters: batch_size: 15 - epochs: 100 Accuracy: 75.11930625694275\n",
      "54/54 [==============================] - 0s 1ms/step\n",
      "13 Parameters: batch_size: 20 - epochs: 5 Accuracy: 83.33231590321572\n",
      "54/54 [==============================] - 0s 1ms/step\n",
      "14 Parameters: batch_size: 20 - epochs: 10 Accuracy: 73.13224775813626\n",
      "54/54 [==============================] - 0s 1ms/step\n",
      "15 Parameters: batch_size: 20 - epochs: 50 Accuracy: 68.2896886389001\n",
      "54/54 [==============================] - 0s 1ms/step\n",
      "16 Parameters: batch_size: 20 - epochs: 100 Accuracy: 73.4119397169611\n"
     ]
    }
   ],
   "source": [
    "# Defining a function to find the best parameters for ANN\n",
    "def FunctionFindBestParams(X_train, y_train, X_test, y_test):\n",
    "    # Defining the list of hyper parameters to try\n",
    "    batch_size_list=[5, 10, 15, 20]\n",
    "    epoch_list  =   [5, 10, 50, 100]\n",
    "    \n",
    "    import pandas as pd\n",
    "    SearchResultsData=pd.DataFrame(columns=['TrialNumber', 'Parameters', 'Accuracy'])\n",
    "    \n",
    "    # initializing the trials\n",
    "    TrialNumber=0\n",
    "    for batch_size_trial in batch_size_list:\n",
    "        for epochs_trial in epoch_list:\n",
    "            TrialNumber+=1\n",
    "            # create ANN model\n",
    "            model = Sequential()\n",
    "            # Defining the first layer of the model\n",
    "            model.add(Dense(units=5, input_dim=X_train.shape[1], kernel_initializer='normal', activation='relu'))\n",
    "\n",
    "            # Defining the Second layer of the model\n",
    "            model.add(Dense(units=5, kernel_initializer='normal', activation='relu'))\n",
    "\n",
    "            # The output neuron is a single fully connected node \n",
    "            # Since we will be predicting a single number\n",
    "            model.add(Dense(1, kernel_initializer='normal'))\n",
    "\n",
    "            # Compiling the model\n",
    "            model.compile(loss='mean_squared_error', optimizer='adam')\n",
    "\n",
    "            # Fitting the ANN to the Training set\n",
    "            model.fit(X_train, y_train ,batch_size = batch_size_trial, epochs = epochs_trial, verbose=0)\n",
    "\n",
    "            MAPE = np.mean(100 * (np.abs(y_test-model.predict(X_test))/y_test))\n",
    "            \n",
    "            # printing the results of the current iteration\n",
    "            print(TrialNumber, 'Parameters:','batch_size:', batch_size_trial,'-', 'epochs:',epochs_trial, 'Accuracy:', 100-MAPE)\n",
    "            \n",
    "            SearchResultsData=pd.concat([SearchResultsData, pd.DataFrame(data=[[TrialNumber, str(batch_size_trial)+'-'+str(epochs_trial), 100-MAPE]],\n",
    "                                                                    columns=['TrialNumber', 'Parameters', 'Accuracy'] )])\n",
    "    return(SearchResultsData)\n",
    "\n",
    "######################################\n",
    "# Calling the function\n",
    "ResultsData=FunctionFindBestParams(X_train, y_train, X_test, y_test)"
   ]
  },
  {
   "cell_type": "code",
   "execution_count": null,
   "metadata": {},
   "outputs": [
    {
     "data": {
      "text/plain": [
       "<Axes: xlabel='Parameters'>"
      ]
     },
     "metadata": {},
     "output_type": "display_data"
    },
    {
     "data": {
      "image/png": "[encoded data removed]",
      "text/plain": [
       "<Figure size 1500x400 with 1 Axes>"
      ]
     },
     "metadata": {},
     "output_type": "display_data"
    }
   ],
   "source": [
    "%matplotlib inline\n",
    "ResultsData.plot(x='Parameters', y='Accuracy',figsize=(15,4), kind='line')"
   ]
  },
  {
   "cell_type": "markdown",
   "metadata": {},
   "source": [
    "# Training the ANN model with best best parameter"
   ]
  },
  {
   "cell_type": "code",
   "execution_count": null,
   "metadata": {},
   "outputs": [
    {
     "name": "stdout",
     "output_type": "stream",
     "text": [
      "Epoch 1/5\n",
      "201/201 [==============================] - 0s 1ms/step - loss: 0.1456\n",
      "Epoch 2/5\n",
      "201/201 [==============================] - 0s 1ms/step - loss: 0.1435\n",
      "Epoch 3/5\n",
      "201/201 [==============================] - 0s 1ms/step - loss: 0.1437\n",
      "Epoch 4/5\n",
      "201/201 [==============================] - 0s 2ms/step - loss: 0.1450\n",
      "Epoch 5/5\n",
      "201/201 [==============================] - 0s 2ms/step - loss: 0.1439\n"
     ]
    },
    {
     "data": {
      "text/plain": [
       "<keras.src.callbacks.History at 0x21d9d5a7310>"
      ]
     },
     "metadata": {},
     "output_type": "display_data"
    }
   ],
   "source": [
    "#fitting the ANN to the training set\n",
    "model.fit(X_train, y_train, batch_size = 20, epochs = 5, verbose=1)"
   ]
  },
  {
   "cell_type": "code",
   "execution_count": null,
   "metadata": {},
   "outputs": [
    {
     "name": "stdout",
     "output_type": "stream",
     "text": [
      "54/54 [==============================] - 0s 2ms/step\n"
     ]
    }
   ],
   "source": [
    "#generating predictions on the test set\n",
    "Predictions = model.predict(X_test)"
   ]
  },
  {
   "cell_type": "code",
   "execution_count": null,
   "metadata": {},
   "outputs": [],
   "source": [
    "#scalinng back the predictions to original scale\n",
    "Predictions = targetScalerFit.inverse_transform(Predictions)"
   ]
  },
  {
   "cell_type": "code",
   "execution_count": null,
   "metadata": {},
   "outputs": [],
   "source": [
    "#scaling back the y_test to original scale\n",
    "y_test_orig = targetScalerFit.inverse_transform(y_test)"
   ]
  },
  {
   "cell_type": "code",
   "execution_count": null,
   "metadata": {},
   "outputs": [],
   "source": [
    "#scaling test data back to orginal\n",
    "Test_data = predictorScalerFit.inverse_transform(X_test)"
   ]
  },
  {
   "cell_type": "code",
   "execution_count": null,
   "metadata": {},
   "outputs": [
    {
     "data": {
      "text/html": [
       "<div>\n",
       "<style scoped>\n",
       "    .dataframe tbody tr th:only-of-type {\n",
       "        vertical-align: middle;\n",
       "    }\n",
       "\n",
       "    .dataframe tbody tr th {\n",
       "        vertical-align: top;\n",
       "    }\n",
       "\n",
       "    .dataframe thead th {\n",
       "        text-align: right;\n",
       "    }\n",
       "</style>\n",
       "<table border=\"1\" class=\"dataframe\">\n",
       "  <thead>\n",
       "    <tr style=\"text-align: right;\">\n",
       "      <th></th>\n",
       "      <th>reporting_period</th>\n",
       "      <th>number_flights_matched</th>\n",
       "      <th>actual_flights_unmatched</th>\n",
       "      <th>number_flights_cancelled</th>\n",
       "      <th>flights_more_than_15_minutes_early_percent</th>\n",
       "      <th>flights_15_minutes_early_to_1_minute_early_percent</th>\n",
       "      <th>flights_0_to_15_minutes_late_percent</th>\n",
       "      <th>flights_between_16_and_30_minutes_late_percent</th>\n",
       "      <th>flights_between_31_and_60_minutes_late_percent</th>\n",
       "      <th>flights_between_61_and_120_minutes_late_percent</th>\n",
       "      <th>flights_between_121_and_180_minutes_late_percent</th>\n",
       "      <th>flights_between_181_and_360_minutes_late_percent</th>\n",
       "      <th>flights_more_than_360_minutes_late_percent</th>\n",
       "      <th>arrival_departure_A</th>\n",
       "      <th>arrival_departure_D</th>\n",
       "      <th>scheduled_charter_C</th>\n",
       "      <th>scheduled_charter_S</th>\n",
       "      <th>Actual Mins</th>\n",
       "      <th>PredictedMins</th>\n",
       "    </tr>\n",
       "  </thead>\n",
       "  <tbody>\n",
       "    <tr>\n",
       "      <th>0</th>\n",
       "      <td>202202.0</td>\n",
       "      <td>6.0</td>\n",
       "      <td>0.0</td>\n",
       "      <td>2.775558e-17</td>\n",
       "      <td>0.0</td>\n",
       "      <td>0.000000</td>\n",
       "      <td>83.333333</td>\n",
       "      <td>0.000000</td>\n",
       "      <td>0.000000</td>\n",
       "      <td>0.000000</td>\n",
       "      <td>0.000000</td>\n",
       "      <td>16.666667</td>\n",
       "      <td>0.0</td>\n",
       "      <td>0.0</td>\n",
       "      <td>1.0</td>\n",
       "      <td>1.0</td>\n",
       "      <td>0.0</td>\n",
       "      <td>39.0</td>\n",
       "      <td>40.157040</td>\n",
       "    </tr>\n",
       "    <tr>\n",
       "      <th>1</th>\n",
       "      <td>202205.0</td>\n",
       "      <td>117.0</td>\n",
       "      <td>0.0</td>\n",
       "      <td>2.775558e-17</td>\n",
       "      <td>0.0</td>\n",
       "      <td>14.529915</td>\n",
       "      <td>43.589744</td>\n",
       "      <td>21.367521</td>\n",
       "      <td>16.239316</td>\n",
       "      <td>3.418803</td>\n",
       "      <td>0.854701</td>\n",
       "      <td>0.000000</td>\n",
       "      <td>0.0</td>\n",
       "      <td>0.0</td>\n",
       "      <td>1.0</td>\n",
       "      <td>0.0</td>\n",
       "      <td>1.0</td>\n",
       "      <td>19.0</td>\n",
       "      <td>19.798374</td>\n",
       "    </tr>\n",
       "    <tr>\n",
       "      <th>2</th>\n",
       "      <td>202302.0</td>\n",
       "      <td>1.0</td>\n",
       "      <td>0.0</td>\n",
       "      <td>2.775558e-17</td>\n",
       "      <td>0.0</td>\n",
       "      <td>0.000000</td>\n",
       "      <td>0.000000</td>\n",
       "      <td>0.000000</td>\n",
       "      <td>0.000000</td>\n",
       "      <td>0.000000</td>\n",
       "      <td>100.000000</td>\n",
       "      <td>0.000000</td>\n",
       "      <td>0.0</td>\n",
       "      <td>0.0</td>\n",
       "      <td>1.0</td>\n",
       "      <td>1.0</td>\n",
       "      <td>0.0</td>\n",
       "      <td>135.0</td>\n",
       "      <td>152.398102</td>\n",
       "    </tr>\n",
       "    <tr>\n",
       "      <th>3</th>\n",
       "      <td>202206.0</td>\n",
       "      <td>3.0</td>\n",
       "      <td>0.0</td>\n",
       "      <td>2.775558e-17</td>\n",
       "      <td>0.0</td>\n",
       "      <td>33.333333</td>\n",
       "      <td>33.333333</td>\n",
       "      <td>0.000000</td>\n",
       "      <td>0.000000</td>\n",
       "      <td>33.333333</td>\n",
       "      <td>0.000000</td>\n",
       "      <td>0.000000</td>\n",
       "      <td>0.0</td>\n",
       "      <td>1.0</td>\n",
       "      <td>0.0</td>\n",
       "      <td>0.0</td>\n",
       "      <td>1.0</td>\n",
       "      <td>22.0</td>\n",
       "      <td>33.993065</td>\n",
       "    </tr>\n",
       "    <tr>\n",
       "      <th>4</th>\n",
       "      <td>202206.0</td>\n",
       "      <td>1.0</td>\n",
       "      <td>0.0</td>\n",
       "      <td>2.775558e-17</td>\n",
       "      <td>0.0</td>\n",
       "      <td>0.000000</td>\n",
       "      <td>0.000000</td>\n",
       "      <td>0.000000</td>\n",
       "      <td>0.000000</td>\n",
       "      <td>100.000000</td>\n",
       "      <td>0.000000</td>\n",
       "      <td>0.000000</td>\n",
       "      <td>0.0</td>\n",
       "      <td>1.0</td>\n",
       "      <td>0.0</td>\n",
       "      <td>1.0</td>\n",
       "      <td>0.0</td>\n",
       "      <td>117.0</td>\n",
       "      <td>87.383865</td>\n",
       "    </tr>\n",
       "  </tbody>\n",
       "</table>\n",
       "</div>"
      ],
      "text/plain": [
       "   reporting_period  number_flights_matched  actual_flights_unmatched  \\\n",
       "0          202202.0                     6.0                       0.0   \n",
       "1          202205.0                   117.0                       0.0   \n",
       "2          202302.0                     1.0                       0.0   \n",
       "3          202206.0                     3.0                       0.0   \n",
       "4          202206.0                     1.0                       0.0   \n",
       "\n",
       "   number_flights_cancelled  flights_more_than_15_minutes_early_percent  \\\n",
       "0              2.775558e-17                                         0.0   \n",
       "1              2.775558e-17                                         0.0   \n",
       "2              2.775558e-17                                         0.0   \n",
       "3              2.775558e-17                                         0.0   \n",
       "4              2.775558e-17                                         0.0   \n",
       "\n",
       "   flights_15_minutes_early_to_1_minute_early_percent  \\\n",
       "0                                           0.000000    \n",
       "1                                          14.529915    \n",
       "2                                           0.000000    \n",
       "3                                          33.333333    \n",
       "4                                           0.000000    \n",
       "\n",
       "   flights_0_to_15_minutes_late_percent  \\\n",
       "0                             83.333333   \n",
       "1                             43.589744   \n",
       "2                              0.000000   \n",
       "3                             33.333333   \n",
       "4                              0.000000   \n",
       "\n",
       "   flights_between_16_and_30_minutes_late_percent  \\\n",
       "0                                        0.000000   \n",
       "1                                       21.367521   \n",
       "2                                        0.000000   \n",
       "3                                        0.000000   \n",
       "4                                        0.000000   \n",
       "\n",
       "   flights_between_31_and_60_minutes_late_percent  \\\n",
       "0                                        0.000000   \n",
       "1                                       16.239316   \n",
       "2                                        0.000000   \n",
       "3                                        0.000000   \n",
       "4                                        0.000000   \n",
       "\n",
       "   flights_between_61_and_120_minutes_late_percent  \\\n",
       "0                                         0.000000   \n",
       "1                                         3.418803   \n",
       "2                                         0.000000   \n",
       "3                                        33.333333   \n",
       "4                                       100.000000   \n",
       "\n",
       "   flights_between_121_and_180_minutes_late_percent  \\\n",
       "0                                          0.000000   \n",
       "1                                          0.854701   \n",
       "2                                        100.000000   \n",
       "3                                          0.000000   \n",
       "4                                          0.000000   \n",
       "\n",
       "   flights_between_181_and_360_minutes_late_percent  \\\n",
       "0                                         16.666667   \n",
       "1                                          0.000000   \n",
       "2                                          0.000000   \n",
       "3                                          0.000000   \n",
       "4                                          0.000000   \n",
       "\n",
       "   flights_more_than_360_minutes_late_percent  arrival_departure_A  \\\n",
       "0                                         0.0                  0.0   \n",
       "1                                         0.0                  0.0   \n",
       "2                                         0.0                  0.0   \n",
       "3                                         0.0                  1.0   \n",
       "4                                         0.0                  1.0   \n",
       "\n",
       "   arrival_departure_D  scheduled_charter_C  scheduled_charter_S  Actual Mins  \\\n",
       "0                  1.0                  1.0                  0.0         39.0   \n",
       "1                  1.0                  0.0                  1.0         19.0   \n",
       "2                  1.0                  1.0                  0.0        135.0   \n",
       "3                  0.0                  0.0                  1.0         22.0   \n",
       "4                  0.0                  1.0                  0.0        117.0   \n",
       "\n",
       "   PredictedMins  \n",
       "0      40.157040  \n",
       "1      19.798374  \n",
       "2     152.398102  \n",
       "3      33.993065  \n",
       "4      87.383865  "
      ]
     },
     "metadata": {},
     "output_type": "display_data"
    }
   ],
   "source": [
    "Testing_data = pd.DataFrame(data=Test_data, columns=predictors.columns)\n",
    "Testing_data['Actual Mins'] = y_test_orig\n",
    "Testing_data['PredictedMins'] = Predictions\n",
    "Testing_data.head()"
   ]
  },
  {
   "cell_type": "markdown",
   "metadata": {},
   "source": [
    "# Find Accuracy\n",
    "\n",
    "MAPE = mean absolute percentage error"
   ]
  },
  {
   "cell_type": "code",
   "execution_count": null,
   "metadata": {},
   "outputs": [
    {
     "name": "stdout",
     "output_type": "stream",
     "text": [
      "80.09002591456397\n"
     ]
    },
    {
     "data": {
      "text/html": [
       "<div>\n",
       "<style scoped>\n",
       "    .dataframe tbody tr th:only-of-type {\n",
       "        vertical-align: middle;\n",
       "    }\n",
       "\n",
       "    .dataframe tbody tr th {\n",
       "        vertical-align: top;\n",
       "    }\n",
       "\n",
       "    .dataframe thead th {\n",
       "        text-align: right;\n",
       "    }\n",
       "</style>\n",
       "<table border=\"1\" class=\"dataframe\">\n",
       "  <thead>\n",
       "    <tr style=\"text-align: right;\">\n",
       "      <th></th>\n",
       "      <th>reporting_period</th>\n",
       "      <th>number_flights_matched</th>\n",
       "      <th>actual_flights_unmatched</th>\n",
       "      <th>number_flights_cancelled</th>\n",
       "      <th>flights_more_than_15_minutes_early_percent</th>\n",
       "      <th>flights_15_minutes_early_to_1_minute_early_percent</th>\n",
       "      <th>flights_0_to_15_minutes_late_percent</th>\n",
       "      <th>flights_between_16_and_30_minutes_late_percent</th>\n",
       "      <th>flights_between_31_and_60_minutes_late_percent</th>\n",
       "      <th>flights_between_61_and_120_minutes_late_percent</th>\n",
       "      <th>flights_between_121_and_180_minutes_late_percent</th>\n",
       "      <th>flights_between_181_and_360_minutes_late_percent</th>\n",
       "      <th>flights_more_than_360_minutes_late_percent</th>\n",
       "      <th>arrival_departure_A</th>\n",
       "      <th>arrival_departure_D</th>\n",
       "      <th>scheduled_charter_C</th>\n",
       "      <th>scheduled_charter_S</th>\n",
       "      <th>Actual Mins</th>\n",
       "      <th>PredictedMins</th>\n",
       "      <th>APE</th>\n",
       "    </tr>\n",
       "  </thead>\n",
       "  <tbody>\n",
       "    <tr>\n",
       "      <th>0</th>\n",
       "      <td>202202.0</td>\n",
       "      <td>6.0</td>\n",
       "      <td>0.0</td>\n",
       "      <td>2.775558e-17</td>\n",
       "      <td>0.0</td>\n",
       "      <td>0.000000</td>\n",
       "      <td>83.333333</td>\n",
       "      <td>0.000000</td>\n",
       "      <td>0.000000</td>\n",
       "      <td>0.000000</td>\n",
       "      <td>0.000000</td>\n",
       "      <td>16.666667</td>\n",
       "      <td>0.0</td>\n",
       "      <td>0.0</td>\n",
       "      <td>1.0</td>\n",
       "      <td>1.0</td>\n",
       "      <td>0.0</td>\n",
       "      <td>39.0</td>\n",
       "      <td>40.157040</td>\n",
       "      <td>2.966768</td>\n",
       "    </tr>\n",
       "    <tr>\n",
       "      <th>1</th>\n",
       "      <td>202205.0</td>\n",
       "      <td>117.0</td>\n",
       "      <td>0.0</td>\n",
       "      <td>2.775558e-17</td>\n",
       "      <td>0.0</td>\n",
       "      <td>14.529915</td>\n",
       "      <td>43.589744</td>\n",
       "      <td>21.367521</td>\n",
       "      <td>16.239316</td>\n",
       "      <td>3.418803</td>\n",
       "      <td>0.854701</td>\n",
       "      <td>0.000000</td>\n",
       "      <td>0.0</td>\n",
       "      <td>0.0</td>\n",
       "      <td>1.0</td>\n",
       "      <td>0.0</td>\n",
       "      <td>1.0</td>\n",
       "      <td>19.0</td>\n",
       "      <td>19.798374</td>\n",
       "      <td>4.201969</td>\n",
       "    </tr>\n",
       "    <tr>\n",
       "      <th>2</th>\n",
       "      <td>202302.0</td>\n",
       "      <td>1.0</td>\n",
       "      <td>0.0</td>\n",
       "      <td>2.775558e-17</td>\n",
       "      <td>0.0</td>\n",
       "      <td>0.000000</td>\n",
       "      <td>0.000000</td>\n",
       "      <td>0.000000</td>\n",
       "      <td>0.000000</td>\n",
       "      <td>0.000000</td>\n",
       "      <td>100.000000</td>\n",
       "      <td>0.000000</td>\n",
       "      <td>0.0</td>\n",
       "      <td>0.0</td>\n",
       "      <td>1.0</td>\n",
       "      <td>1.0</td>\n",
       "      <td>0.0</td>\n",
       "      <td>135.0</td>\n",
       "      <td>152.398102</td>\n",
       "      <td>12.887483</td>\n",
       "    </tr>\n",
       "    <tr>\n",
       "      <th>3</th>\n",
       "      <td>202206.0</td>\n",
       "      <td>3.0</td>\n",
       "      <td>0.0</td>\n",
       "      <td>2.775558e-17</td>\n",
       "      <td>0.0</td>\n",
       "      <td>33.333333</td>\n",
       "      <td>33.333333</td>\n",
       "      <td>0.000000</td>\n",
       "      <td>0.000000</td>\n",
       "      <td>33.333333</td>\n",
       "      <td>0.000000</td>\n",
       "      <td>0.000000</td>\n",
       "      <td>0.0</td>\n",
       "      <td>1.0</td>\n",
       "      <td>0.0</td>\n",
       "      <td>0.0</td>\n",
       "      <td>1.0</td>\n",
       "      <td>22.0</td>\n",
       "      <td>33.993065</td>\n",
       "      <td>54.513931</td>\n",
       "    </tr>\n",
       "    <tr>\n",
       "      <th>4</th>\n",
       "      <td>202206.0</td>\n",
       "      <td>1.0</td>\n",
       "      <td>0.0</td>\n",
       "      <td>2.775558e-17</td>\n",
       "      <td>0.0</td>\n",
       "      <td>0.000000</td>\n",
       "      <td>0.000000</td>\n",
       "      <td>0.000000</td>\n",
       "      <td>0.000000</td>\n",
       "      <td>100.000000</td>\n",
       "      <td>0.000000</td>\n",
       "      <td>0.000000</td>\n",
       "      <td>0.0</td>\n",
       "      <td>1.0</td>\n",
       "      <td>0.0</td>\n",
       "      <td>1.0</td>\n",
       "      <td>0.0</td>\n",
       "      <td>117.0</td>\n",
       "      <td>87.383865</td>\n",
       "      <td>25.312936</td>\n",
       "    </tr>\n",
       "  </tbody>\n",
       "</table>\n",
       "</div>"
      ],
      "text/plain": [
       "   reporting_period  number_flights_matched  actual_flights_unmatched  \\\n",
       "0          202202.0                     6.0                       0.0   \n",
       "1          202205.0                   117.0                       0.0   \n",
       "2          202302.0                     1.0                       0.0   \n",
       "3          202206.0                     3.0                       0.0   \n",
       "4          202206.0                     1.0                       0.0   \n",
       "\n",
       "   number_flights_cancelled  flights_more_than_15_minutes_early_percent  \\\n",
       "0              2.775558e-17                                         0.0   \n",
       "1              2.775558e-17                                         0.0   \n",
       "2              2.775558e-17                                         0.0   \n",
       "3              2.775558e-17                                         0.0   \n",
       "4              2.775558e-17                                         0.0   \n",
       "\n",
       "   flights_15_minutes_early_to_1_minute_early_percent  \\\n",
       "0                                           0.000000    \n",
       "1                                          14.529915    \n",
       "2                                           0.000000    \n",
       "3                                          33.333333    \n",
       "4                                           0.000000    \n",
       "\n",
       "   flights_0_to_15_minutes_late_percent  \\\n",
       "0                             83.333333   \n",
       "1                             43.589744   \n",
       "2                              0.000000   \n",
       "3                             33.333333   \n",
       "4                              0.000000   \n",
       "\n",
       "   flights_between_16_and_30_minutes_late_percent  \\\n",
       "0                                        0.000000   \n",
       "1                                       21.367521   \n",
       "2                                        0.000000   \n",
       "3                                        0.000000   \n",
       "4                                        0.000000   \n",
       "\n",
       "   flights_between_31_and_60_minutes_late_percent  \\\n",
       "0                                        0.000000   \n",
       "1                                       16.239316   \n",
       "2                                        0.000000   \n",
       "3                                        0.000000   \n",
       "4                                        0.000000   \n",
       "\n",
       "   flights_between_61_and_120_minutes_late_percent  \\\n",
       "0                                         0.000000   \n",
       "1                                         3.418803   \n",
       "2                                         0.000000   \n",
       "3                                        33.333333   \n",
       "4                                       100.000000   \n",
       "\n",
       "   flights_between_121_and_180_minutes_late_percent  \\\n",
       "0                                          0.000000   \n",
       "1                                          0.854701   \n",
       "2                                        100.000000   \n",
       "3                                          0.000000   \n",
       "4                                          0.000000   \n",
       "\n",
       "   flights_between_181_and_360_minutes_late_percent  \\\n",
       "0                                         16.666667   \n",
       "1                                          0.000000   \n",
       "2                                          0.000000   \n",
       "3                                          0.000000   \n",
       "4                                          0.000000   \n",
       "\n",
       "   flights_more_than_360_minutes_late_percent  arrival_departure_A  \\\n",
       "0                                         0.0                  0.0   \n",
       "1                                         0.0                  0.0   \n",
       "2                                         0.0                  0.0   \n",
       "3                                         0.0                  1.0   \n",
       "4                                         0.0                  1.0   \n",
       "\n",
       "   arrival_departure_D  scheduled_charter_C  scheduled_charter_S  Actual Mins  \\\n",
       "0                  1.0                  1.0                  0.0         39.0   \n",
       "1                  1.0                  0.0                  1.0         19.0   \n",
       "2                  1.0                  1.0                  0.0        135.0   \n",
       "3                  0.0                  0.0                  1.0         22.0   \n",
       "4                  0.0                  1.0                  0.0        117.0   \n",
       "\n",
       "   PredictedMins        APE  \n",
       "0      40.157040   2.966768  \n",
       "1      19.798374   4.201969  \n",
       "2     152.398102  12.887483  \n",
       "3      33.993065  54.513931  \n",
       "4      87.383865  25.312936  "
      ]
     },
     "metadata": {},
     "output_type": "display_data"
    }
   ],
   "source": [
    "#calcalate the absolute percent error\n",
    "APE= 100*(abs(Testing_data['Actual Mins']-Testing_data['PredictedMins'])/Testing_data['Actual Mins'])\n",
    "Testing_data['APE'] = APE\n",
    "\n",
    "print(100-np.mean(APE))\n",
    "Testing_data.head()"
   ]
  },
  {
   "cell_type": "code",
   "execution_count": null,
   "metadata": {},
   "outputs": [
    {
     "data": {
      "text/plain": [
       "1285.0"
      ]
     },
     "metadata": {},
     "output_type": "display_data"
    }
   ],
   "source": [
    "Testing_data['Actual Mins'].max()"
   ]
  },
  {
   "cell_type": "code",
   "execution_count": null,
   "metadata": {},
   "outputs": [
    {
     "data": {
      "image/png": "[encoded data removed]",
      "text/plain": [
       "<Figure size 1500x700 with 1 Axes>"
      ]
     },
     "metadata": {},
     "output_type": "display_data"
    }
   ],
   "source": [
    "#plot the Mins and PredictedMins columns using line chart\n",
    "plt.figure(figsize=(15, 7))\n",
    "plt.plot(Testing_data['Actual Mins'], label='Actual Mins')\n",
    "plt.plot(Testing_data['PredictedMins'], label='PredictedMins')\n",
    "plt.xlabel('Index')\n",
    "plt.ylabel('Delay Minutes')\n",
    "plt.title(\"Comparison of Actual vs Predicted Minutes Delayed\")\n",
    "plt.legend()\n",
    "plt.show()"
   ]
  },
  {
   "cell_type": "markdown",
   "metadata": {},
   "source": [
    "find a way to predcit excatly unseen data to give the regr output"
   ]
  },
  {
   "cell_type": "code",
   "execution_count": null,
   "metadata": {},
   "outputs": [],
   "source": [
    "def predict_average_delay_mins(user_data_list, predictor_scaler):\n",
    "    # Preprocess user data as a DataFrame\n",
    "    user_df = pd.DataFrame(user_data_list)\n",
    "    user_df.columns = predictors.columns\n",
    "    \n",
    "    # Standardize the user's data\n",
    "    user_data_scaled = predictor_scaler.transform(user_df)\n",
    "    \n",
    "    # Generate predictions\n",
    "    predictions = model.predict(user_data_scaled)\n",
    "    \n",
    "    # Scale back the predictions to the original scale\n",
    "    predictions_original_scale = targetScaler.inverse_transform(predictions)\n",
    "    \n",
    "    # Find the average delay minutes\n",
    "    average_delay_mins = np.mean(predictions_original_scale)\n",
    "    \n",
    "    return average_delay_mins"
   ]
  },
  {
   "cell_type": "code",
   "execution_count": null,
   "metadata": {},
   "outputs": [
    {
     "name": "stdout",
     "output_type": "stream",
     "text": [
      "1/1 [==============================] - 0s 28ms/step\n",
      "The average delay minutes for the provided data is: 89.28\n"
     ]
    },
    {
     "name": "stderr",
     "output_type": "stream",
     "text": [
      "c:\\ProgramData\\anaconda3\\Lib\\site-packages\\sklearn\\base.py:457: UserWarning: X has feature names, but StandardScaler was fitted without feature names\n",
      "  warnings.warn(\n"
     ]
    }
   ],
   "source": [
    "user_data_list = [\n",
    "    {\n",
    "        'reporting_period': 202206,\n",
    "        'number_flights_matched': 1,\n",
    "        'actual_flights_unmatched': 0,\n",
    "        'number_flights_cancelled': 0,\n",
    "        'flights_more_than_15_minutes_early_percent': 0,\n",
    "        'flights_15_minutes_early_to_1_minute_early_percent': 0,\n",
    "        'flights_0_to_15_minutes_late_percent': 0,\n",
    "        'flights_between_16_and_30_minutes_late_percent': 0,\n",
    "        'flights_between_31_and_60_minutes_late_percent': 0,\n",
    "        'flights_between_61_and_120_minutes_late_percent': 100,\n",
    "        'flights_between_121_and_180_minutes_late_percent': 0,\n",
    "        'flights_between_181_and_360_minutes_late_percent': 0,\n",
    "        'flights_more_than_360_minutes_late_percent': 0,\n",
    "        'arrival_departure_A': 1,\n",
    "        'arrival_departure_D': 0,\n",
    "        'scheduled_charter_C': 0,\n",
    "        'scheduled_charter_S': 1\n",
    "    }\n",
    "]\n",
    "\n",
    "average_delay_mins = predict_average_delay_mins(user_data_list, predictorScalerFit)\n",
    "print(f\"The average delay minutes for the provided data is: {average_delay_mins:.2f}\")"
   ]
  },
  {
   "cell_type": "code",
   "execution_count": null,
   "metadata": {},
   "outputs": [
    {
     "ename": "NameError",
     "evalue": "name 'model' is not defined",
     "output_type": "error",
     "traceback": [
      "\u001b[1;31m---------------------------------------------------------------------------\u001b[0m",
      "\u001b[1;31mNameError\u001b[0m                                 Traceback (most recent call last)",
      "Cell \u001b[1;32mIn[11], line 5\u001b[0m\n\u001b[0;32m      2\u001b[0m \u001b[38;5;28;01mimport\u001b[39;00m \u001b[38;5;21;01mpickle\u001b[39;00m\n\u001b[0;32m      4\u001b[0m \u001b[38;5;66;03m# Save the model and scaler\u001b[39;00m\n\u001b[1;32m----> 5\u001b[0m pickle\u001b[38;5;241m.\u001b[39mdump(\u001b[43mmodel\u001b[49m, \u001b[38;5;28mopen\u001b[39m(\u001b[38;5;124m'\u001b[39m\u001b[38;5;124mmodel.sav\u001b[39m\u001b[38;5;124m'\u001b[39m, \u001b[38;5;124m'\u001b[39m\u001b[38;5;124mwb\u001b[39m\u001b[38;5;124m'\u001b[39m))\n\u001b[0;32m      6\u001b[0m load_model \u001b[38;5;241m=\u001b[39m pickle\u001b[38;5;241m.\u001b[39mload(\u001b[38;5;28mopen\u001b[39m(\u001b[38;5;124m'\u001b[39m\u001b[38;5;124mmodel.pkl\u001b[39m\u001b[38;5;124m'\u001b[39m,\u001b[38;5;124m'\u001b[39m\u001b[38;5;124mrb\u001b[39m\u001b[38;5;124m'\u001b[39m))\n",
      "\u001b[1;31mNameError\u001b[0m: name 'model' is not defined"
     ]
    }
   ],
   "source": [
    "#save it a joblib variable\n",
    "import pickle\n",
    "\n",
    "# Save the model and scaler\n",
    "pickle.dump(model, open('model.sav', 'wb'))\n",
    "load_model = pickle.load(open('model.pkl','rb'))"
   ]
  },
  {
   "cell_type": "markdown",
   "metadata": {},
   "source": [
    "# Find best hyperparameters"
   ]
  },
  {
   "cell_type": "code",
   "execution_count": null,
   "metadata": {},
   "outputs": [],
   "source": [
    "\n",
    "'''# Function to generate Deep ANN model \n",
    "def make_regression_ann(Optimizer_trial):\n",
    "    from keras.models import Sequential\n",
    "    from keras.layers import Dense\n",
    "    \n",
    "    model = Sequential()\n",
    "    model.add(Dense(units=5, input_dim=17, kernel_initializer='normal', activation='relu'))\n",
    "    model.add(Dense(units=5, kernel_initializer='normal', activation='relu'))\n",
    "    model.add(Dense(1, kernel_initializer='normal'))\n",
    "    model.compile(loss='mean_squared_error', optimizer=Optimizer_trial)\n",
    "    return model'''"
   ]
  },
  {
   "cell_type": "code",
   "execution_count": null,
   "metadata": {},
   "outputs": [
    {
     "name": "stdout",
     "output_type": "stream",
     "text": [
      "C:\\Users\\dkout\\AppData\\Roaming\\Python\\Python311\\site-packages\\keras\\__init__.py\n"
     ]
    }
   ],
   "source": [
    "'''import keras\n",
    "print(keras.__file__)'''"
   ]
  },
  {
   "cell_type": "markdown",
   "metadata": {},
   "source": [
    "**find this shit**:       keras.wrappers.scikit_learn"
   ]
  },
  {
   "cell_type": "code",
   "execution_count": null,
   "metadata": {},
   "outputs": [],
   "source": [
    "'''from keras.models import Sequential\n",
    "from keras.layers import Dense\n",
    "from keras.wrappers.scikit_learn import KerasClassifier'''"
   ]
  },
  {
   "cell_type": "code",
   "execution_count": null,
   "metadata": {},
   "outputs": [
    {
     "data": {
      "text/plain": [
       "\"from sklearn.model_selection import GridSearchCV\\nfrom keras.wrappers.scikit_learn import KerasRegressor\\n\\n# Listing all the parameters to try\\nParameter_Trials={'batch_size':[10,20,30],\\n                    'epochs':[10,20],\\n                    'Optimizer_trial':['adam', 'rmsprop']\\n                }\\n\\n# Creating the regression ANN model\\nRegModel=KerasRegressor(make_regression_ann, verbose=0)\""
      ]
     },
     "metadata": {},
     "output_type": "display_data"
    }
   ],
   "source": [
    "'''from sklearn.model_selection import GridSearchCV\n",
    "from keras.wrappers.scikit_learn import KerasRegressor\n",
    "\n",
    "# Listing all the parameters to try\n",
    "Parameter_Trials={'batch_size':[10,20,30],\n",
    "                    'epochs':[10,20],\n",
    "                    'Optimizer_trial':['adam', 'rmsprop']\n",
    "                }\n",
    "\n",
    "# Creating the regression ANN model\n",
    "RegModel=KerasRegressor(make_regression_ann, verbose=0)'''"
   ]
  },
  {
   "cell_type": "code",
   "execution_count": null,
   "metadata": {},
   "outputs": [
    {
     "data": {
      "text/plain": [
       "\"from sklearn.metrics import make_scorer\\n\\n# Defining a custom function to calculate accuracy\\ndef Accuracy_Score(orig,pred):\\n    MAPE = np.mean(100 * (np.abs(orig-pred)/orig))\\n    print('#'*70,'Accuracy:', 100-MAPE)\\n    return(100-MAPE)\\n\\ncustom_Scoring=make_scorer(Accuracy_Score, greater_is_better=True)\""
      ]
     },
     "metadata": {},
     "output_type": "display_data"
    }
   ],
   "source": [
    "'''from sklearn.metrics import make_scorer\n",
    "\n",
    "# Defining a custom function to calculate accuracy\n",
    "def Accuracy_Score(orig,pred):\n",
    "    MAPE = np.mean(100 * (np.abs(orig-pred)/orig))\n",
    "    print('#'*70,'Accuracy:', 100-MAPE)\n",
    "    return(100-MAPE)\n",
    "\n",
    "custom_Scoring=make_scorer(Accuracy_Score, greater_is_better=True)'''"
   ]
  },
  {
   "cell_type": "code",
   "execution_count": null,
   "metadata": {},
   "outputs": [],
   "source": [
    "# Creating the Grid search space\n",
    "# See different scoring methods by using sklearn.metrics.SCORERS.keys()\n",
    "'''grid_search=GridSearchCV(estimator=RegModel, \n",
    "                        param_grid=Parameter_Trials, \n",
    "                        scoring=custom_Scoring, \n",
    "                        cv=5)'''"
   ]
  },
  {
   "cell_type": "code",
   "execution_count": null,
   "metadata": {},
   "outputs": [],
   "source": [
    "# Measuring how much time it took to find the best params\n",
    "'''import time\n",
    "StartTime=time.time()\n",
    "\n",
    "# Running Grid Search for different paramenters\n",
    "grid_search.fit(X,y, verbose=1)\n",
    "\n",
    "EndTime=time.time()\n",
    "print(\"########## Total Time Taken: \", round((EndTime-StartTime)/60), 'Minutes')\n",
    "\n",
    "print('### Printing Best parameters ###')\n",
    "grid_search.best_params_'''"
   ]
  },
  {
   "cell_type": "markdown",
   "metadata": {},
   "source": [
    "# Building the network"
   ]
  },
  {
   "cell_type": "code",
   "execution_count": null,
   "metadata": {},
   "outputs": [
    {
     "ename": "ModuleNotFoundError",
     "evalue": "No module named 'tensorflow'",
     "output_type": "error",
     "traceback": [
      "\u001b[1;31m---------------------------------------------------------------------------\u001b[0m",
      "\u001b[1;31mModuleNotFoundError\u001b[0m                       Traceback (most recent call last)",
      "Cell \u001b[1;32mIn[15], line 1\u001b[0m\n\u001b[1;32m----> 1\u001b[0m \u001b[38;5;28;01mfrom\u001b[39;00m \u001b[38;5;21;01mkeras\u001b[39;00m \u001b[38;5;28;01mimport\u001b[39;00m layers\n\u001b[0;32m      2\u001b[0m \u001b[38;5;28;01mfrom\u001b[39;00m \u001b[38;5;21;01mkeras\u001b[39;00m\u001b[38;5;21;01m.\u001b[39;00m\u001b[38;5;21;01mmodels\u001b[39;00m \u001b[38;5;28;01mimport\u001b[39;00m Sequential\n",
      "File \u001b[1;32md:\\5th sem\\DeepLearnig\\new-env\\Lib\\site-packages\\keras\\__init__.py:8\u001b[0m\n\u001b[0;32m      1\u001b[0m \u001b[38;5;124;03m\"\"\"DO NOT EDIT.\u001b[39;00m\n\u001b[0;32m      2\u001b[0m \n\u001b[0;32m      3\u001b[0m \u001b[38;5;124;03mThis file was autogenerated. Do not edit it by hand,\u001b[39;00m\n\u001b[0;32m      4\u001b[0m \u001b[38;5;124;03msince your modifications would be overwritten.\u001b[39;00m\n\u001b[0;32m      5\u001b[0m \u001b[38;5;124;03m\"\"\"\u001b[39;00m\n\u001b[1;32m----> 8\u001b[0m \u001b[38;5;28;01mfrom\u001b[39;00m \u001b[38;5;21;01mkeras\u001b[39;00m \u001b[38;5;28;01mimport\u001b[39;00m _tf_keras\n\u001b[0;32m      9\u001b[0m \u001b[38;5;28;01mfrom\u001b[39;00m \u001b[38;5;21;01mkeras\u001b[39;00m \u001b[38;5;28;01mimport\u001b[39;00m activations\n\u001b[0;32m     10\u001b[0m \u001b[38;5;28;01mfrom\u001b[39;00m \u001b[38;5;21;01mkeras\u001b[39;00m \u001b[38;5;28;01mimport\u001b[39;00m applications\n",
      "File \u001b[1;32md:\\5th sem\\DeepLearnig\\new-env\\Lib\\site-packages\\keras\\_tf_keras\\__init__.py:1\u001b[0m\n\u001b[1;32m----> 1\u001b[0m \u001b[38;5;28;01mfrom\u001b[39;00m \u001b[38;5;21;01mkeras\u001b[39;00m\u001b[38;5;21;01m.\u001b[39;00m\u001b[38;5;21;01m_tf_keras\u001b[39;00m \u001b[38;5;28;01mimport\u001b[39;00m keras\n",
      "File \u001b[1;32md:\\5th sem\\DeepLearnig\\new-env\\Lib\\site-packages\\keras\\_tf_keras\\keras\\__init__.py:8\u001b[0m\n\u001b[0;32m      1\u001b[0m \u001b[38;5;124;03m\"\"\"DO NOT EDIT.\u001b[39;00m\n\u001b[0;32m      2\u001b[0m \n\u001b[0;32m      3\u001b[0m \u001b[38;5;124;03mThis file was autogenerated. Do not edit it by hand,\u001b[39;00m\n\u001b[0;32m      4\u001b[0m \u001b[38;5;124;03msince your modifications would be overwritten.\u001b[39;00m\n\u001b[0;32m      5\u001b[0m \u001b[38;5;124;03m\"\"\"\u001b[39;00m\n\u001b[1;32m----> 8\u001b[0m \u001b[38;5;28;01mfrom\u001b[39;00m \u001b[38;5;21;01mkeras\u001b[39;00m \u001b[38;5;28;01mimport\u001b[39;00m activations\n\u001b[0;32m      9\u001b[0m \u001b[38;5;28;01mfrom\u001b[39;00m \u001b[38;5;21;01mkeras\u001b[39;00m \u001b[38;5;28;01mimport\u001b[39;00m applications\n\u001b[0;32m     10\u001b[0m \u001b[38;5;28;01mfrom\u001b[39;00m \u001b[38;5;21;01mkeras\u001b[39;00m \u001b[38;5;28;01mimport\u001b[39;00m callbacks\n",
      "File \u001b[1;32md:\\5th sem\\DeepLearnig\\new-env\\Lib\\site-packages\\keras\\activations\\__init__.py:8\u001b[0m\n\u001b[0;32m      1\u001b[0m \u001b[38;5;124;03m\"\"\"DO NOT EDIT.\u001b[39;00m\n\u001b[0;32m      2\u001b[0m \n\u001b[0;32m      3\u001b[0m \u001b[38;5;124;03mThis file was autogenerated. Do not edit it by hand,\u001b[39;00m\n\u001b[0;32m      4\u001b[0m \u001b[38;5;124;03msince your modifications would be overwritten.\u001b[39;00m\n\u001b[0;32m      5\u001b[0m \u001b[38;5;124;03m\"\"\"\u001b[39;00m\n\u001b[1;32m----> 8\u001b[0m \u001b[38;5;28;01mfrom\u001b[39;00m \u001b[38;5;21;01mkeras\u001b[39;00m\u001b[38;5;21;01m.\u001b[39;00m\u001b[38;5;21;01msrc\u001b[39;00m\u001b[38;5;21;01m.\u001b[39;00m\u001b[38;5;21;01mactivations\u001b[39;00m \u001b[38;5;28;01mimport\u001b[39;00m deserialize\n\u001b[0;32m      9\u001b[0m \u001b[38;5;28;01mfrom\u001b[39;00m \u001b[38;5;21;01mkeras\u001b[39;00m\u001b[38;5;21;01m.\u001b[39;00m\u001b[38;5;21;01msrc\u001b[39;00m\u001b[38;5;21;01m.\u001b[39;00m\u001b[38;5;21;01mactivations\u001b[39;00m \u001b[38;5;28;01mimport\u001b[39;00m get\n\u001b[0;32m     10\u001b[0m \u001b[38;5;28;01mfrom\u001b[39;00m \u001b[38;5;21;01mkeras\u001b[39;00m\u001b[38;5;21;01m.\u001b[39;00m\u001b[38;5;21;01msrc\u001b[39;00m\u001b[38;5;21;01m.\u001b[39;00m\u001b[38;5;21;01mactivations\u001b[39;00m \u001b[38;5;28;01mimport\u001b[39;00m serialize\n",
      "File \u001b[1;32md:\\5th sem\\DeepLearnig\\new-env\\Lib\\site-packages\\keras\\src\\__init__.py:1\u001b[0m\n\u001b[1;32m----> 1\u001b[0m \u001b[38;5;28;01mfrom\u001b[39;00m \u001b[38;5;21;01mkeras\u001b[39;00m\u001b[38;5;21;01m.\u001b[39;00m\u001b[38;5;21;01msrc\u001b[39;00m \u001b[38;5;28;01mimport\u001b[39;00m activations\n\u001b[0;32m      2\u001b[0m \u001b[38;5;28;01mfrom\u001b[39;00m \u001b[38;5;21;01mkeras\u001b[39;00m\u001b[38;5;21;01m.\u001b[39;00m\u001b[38;5;21;01msrc\u001b[39;00m \u001b[38;5;28;01mimport\u001b[39;00m applications\n\u001b[0;32m      3\u001b[0m \u001b[38;5;28;01mfrom\u001b[39;00m \u001b[38;5;21;01mkeras\u001b[39;00m\u001b[38;5;21;01m.\u001b[39;00m\u001b[38;5;21;01msrc\u001b[39;00m \u001b[38;5;28;01mimport\u001b[39;00m backend\n",
      "File \u001b[1;32md:\\5th sem\\DeepLearnig\\new-env\\Lib\\site-packages\\keras\\src\\activations\\__init__.py:3\u001b[0m\n\u001b[0;32m      1\u001b[0m \u001b[38;5;28;01mimport\u001b[39;00m \u001b[38;5;21;01mtypes\u001b[39;00m\n\u001b[1;32m----> 3\u001b[0m \u001b[38;5;28;01mfrom\u001b[39;00m \u001b[38;5;21;01mkeras\u001b[39;00m\u001b[38;5;21;01m.\u001b[39;00m\u001b[38;5;21;01msrc\u001b[39;00m\u001b[38;5;21;01m.\u001b[39;00m\u001b[38;5;21;01mactivations\u001b[39;00m\u001b[38;5;21;01m.\u001b[39;00m\u001b[38;5;21;01mactivations\u001b[39;00m \u001b[38;5;28;01mimport\u001b[39;00m elu\n\u001b[0;32m      4\u001b[0m \u001b[38;5;28;01mfrom\u001b[39;00m \u001b[38;5;21;01mkeras\u001b[39;00m\u001b[38;5;21;01m.\u001b[39;00m\u001b[38;5;21;01msrc\u001b[39;00m\u001b[38;5;21;01m.\u001b[39;00m\u001b[38;5;21;01mactivations\u001b[39;00m\u001b[38;5;21;01m.\u001b[39;00m\u001b[38;5;21;01mactivations\u001b[39;00m \u001b[38;5;28;01mimport\u001b[39;00m exponential\n\u001b[0;32m      5\u001b[0m \u001b[38;5;28;01mfrom\u001b[39;00m \u001b[38;5;21;01mkeras\u001b[39;00m\u001b[38;5;21;01m.\u001b[39;00m\u001b[38;5;21;01msrc\u001b[39;00m\u001b[38;5;21;01m.\u001b[39;00m\u001b[38;5;21;01mactivations\u001b[39;00m\u001b[38;5;21;01m.\u001b[39;00m\u001b[38;5;21;01mactivations\u001b[39;00m \u001b[38;5;28;01mimport\u001b[39;00m gelu\n",
      "File \u001b[1;32md:\\5th sem\\DeepLearnig\\new-env\\Lib\\site-packages\\keras\\src\\activations\\activations.py:1\u001b[0m\n\u001b[1;32m----> 1\u001b[0m \u001b[38;5;28;01mfrom\u001b[39;00m \u001b[38;5;21;01mkeras\u001b[39;00m\u001b[38;5;21;01m.\u001b[39;00m\u001b[38;5;21;01msrc\u001b[39;00m \u001b[38;5;28;01mimport\u001b[39;00m backend\n\u001b[0;32m      2\u001b[0m \u001b[38;5;28;01mfrom\u001b[39;00m \u001b[38;5;21;01mkeras\u001b[39;00m\u001b[38;5;21;01m.\u001b[39;00m\u001b[38;5;21;01msrc\u001b[39;00m \u001b[38;5;28;01mimport\u001b[39;00m ops\n\u001b[0;32m      3\u001b[0m \u001b[38;5;28;01mfrom\u001b[39;00m \u001b[38;5;21;01mkeras\u001b[39;00m\u001b[38;5;21;01m.\u001b[39;00m\u001b[38;5;21;01msrc\u001b[39;00m\u001b[38;5;21;01m.\u001b[39;00m\u001b[38;5;21;01mapi_export\u001b[39;00m \u001b[38;5;28;01mimport\u001b[39;00m keras_export\n",
      "File \u001b[1;32md:\\5th sem\\DeepLearnig\\new-env\\Lib\\site-packages\\keras\\src\\backend\\__init__.py:33\u001b[0m\n\u001b[0;32m     31\u001b[0m \u001b[38;5;66;03m# Import backend functions.\u001b[39;00m\n\u001b[0;32m     32\u001b[0m \u001b[38;5;28;01mif\u001b[39;00m backend() \u001b[38;5;241m==\u001b[39m \u001b[38;5;124m\"\u001b[39m\u001b[38;5;124mtensorflow\u001b[39m\u001b[38;5;124m\"\u001b[39m:\n\u001b[1;32m---> 33\u001b[0m     \u001b[38;5;28;01mfrom\u001b[39;00m \u001b[38;5;21;01mkeras\u001b[39;00m\u001b[38;5;21;01m.\u001b[39;00m\u001b[38;5;21;01msrc\u001b[39;00m\u001b[38;5;21;01m.\u001b[39;00m\u001b[38;5;21;01mbackend\u001b[39;00m\u001b[38;5;21;01m.\u001b[39;00m\u001b[38;5;21;01mtensorflow\u001b[39;00m \u001b[38;5;28;01mimport\u001b[39;00m \u001b[38;5;241m*\u001b[39m  \u001b[38;5;66;03m# noqa: F403\u001b[39;00m\n\u001b[0;32m     34\u001b[0m \u001b[38;5;28;01melif\u001b[39;00m backend() \u001b[38;5;241m==\u001b[39m \u001b[38;5;124m\"\u001b[39m\u001b[38;5;124mjax\u001b[39m\u001b[38;5;124m\"\u001b[39m:\n\u001b[0;32m     35\u001b[0m     \u001b[38;5;28;01mfrom\u001b[39;00m \u001b[38;5;21;01mkeras\u001b[39;00m\u001b[38;5;21;01m.\u001b[39;00m\u001b[38;5;21;01msrc\u001b[39;00m\u001b[38;5;21;01m.\u001b[39;00m\u001b[38;5;21;01mbackend\u001b[39;00m\u001b[38;5;21;01m.\u001b[39;00m\u001b[38;5;21;01mjax\u001b[39;00m \u001b[38;5;28;01mimport\u001b[39;00m \u001b[38;5;241m*\u001b[39m  \u001b[38;5;66;03m# noqa: F403\u001b[39;00m\n",
      "File \u001b[1;32md:\\5th sem\\DeepLearnig\\new-env\\Lib\\site-packages\\keras\\src\\backend\\tensorflow\\__init__.py:1\u001b[0m\n\u001b[1;32m----> 1\u001b[0m \u001b[38;5;28;01mfrom\u001b[39;00m \u001b[38;5;21;01mkeras\u001b[39;00m\u001b[38;5;21;01m.\u001b[39;00m\u001b[38;5;21;01msrc\u001b[39;00m\u001b[38;5;21;01m.\u001b[39;00m\u001b[38;5;21;01mbackend\u001b[39;00m\u001b[38;5;21;01m.\u001b[39;00m\u001b[38;5;21;01mtensorflow\u001b[39;00m \u001b[38;5;28;01mimport\u001b[39;00m core\n\u001b[0;32m      2\u001b[0m \u001b[38;5;28;01mfrom\u001b[39;00m \u001b[38;5;21;01mkeras\u001b[39;00m\u001b[38;5;21;01m.\u001b[39;00m\u001b[38;5;21;01msrc\u001b[39;00m\u001b[38;5;21;01m.\u001b[39;00m\u001b[38;5;21;01mbackend\u001b[39;00m\u001b[38;5;21;01m.\u001b[39;00m\u001b[38;5;21;01mtensorflow\u001b[39;00m \u001b[38;5;28;01mimport\u001b[39;00m distribution_lib\n\u001b[0;32m      3\u001b[0m \u001b[38;5;28;01mfrom\u001b[39;00m \u001b[38;5;21;01mkeras\u001b[39;00m\u001b[38;5;21;01m.\u001b[39;00m\u001b[38;5;21;01msrc\u001b[39;00m\u001b[38;5;21;01m.\u001b[39;00m\u001b[38;5;21;01mbackend\u001b[39;00m\u001b[38;5;21;01m.\u001b[39;00m\u001b[38;5;21;01mtensorflow\u001b[39;00m \u001b[38;5;28;01mimport\u001b[39;00m image\n",
      "File \u001b[1;32md:\\5th sem\\DeepLearnig\\new-env\\Lib\\site-packages\\keras\\src\\backend\\tensorflow\\core.py:4\u001b[0m\n\u001b[0;32m      1\u001b[0m \u001b[38;5;28;01mimport\u001b[39;00m \u001b[38;5;21;01mtypes\u001b[39;00m\n\u001b[0;32m      3\u001b[0m \u001b[38;5;28;01mimport\u001b[39;00m \u001b[38;5;21;01mnumpy\u001b[39;00m \u001b[38;5;28;01mas\u001b[39;00m \u001b[38;5;21;01mnp\u001b[39;00m\n\u001b[1;32m----> 4\u001b[0m \u001b[38;5;28;01mimport\u001b[39;00m \u001b[38;5;21;01mtensorflow\u001b[39;00m \u001b[38;5;28;01mas\u001b[39;00m \u001b[38;5;21;01mtf\u001b[39;00m\n\u001b[0;32m      5\u001b[0m \u001b[38;5;28;01mfrom\u001b[39;00m \u001b[38;5;21;01mtensorflow\u001b[39;00m\u001b[38;5;21;01m.\u001b[39;00m\u001b[38;5;21;01mcompiler\u001b[39;00m\u001b[38;5;21;01m.\u001b[39;00m\u001b[38;5;21;01mtf2xla\u001b[39;00m\u001b[38;5;21;01m.\u001b[39;00m\u001b[38;5;21;01mpython\u001b[39;00m\u001b[38;5;21;01m.\u001b[39;00m\u001b[38;5;21;01mxla\u001b[39;00m \u001b[38;5;28;01mimport\u001b[39;00m dynamic_update_slice\n\u001b[0;32m      7\u001b[0m \u001b[38;5;28;01mfrom\u001b[39;00m \u001b[38;5;21;01mkeras\u001b[39;00m\u001b[38;5;21;01m.\u001b[39;00m\u001b[38;5;21;01msrc\u001b[39;00m\u001b[38;5;21;01m.\u001b[39;00m\u001b[38;5;21;01mbackend\u001b[39;00m\u001b[38;5;21;01m.\u001b[39;00m\u001b[38;5;21;01mcommon\u001b[39;00m \u001b[38;5;28;01mimport\u001b[39;00m KerasVariable\n",
      "\u001b[1;31mModuleNotFoundError\u001b[0m: No module named 'tensorflow'"
     ]
    }
   ],
   "source": [
    "from keras import layers\n",
    "from keras.models import Sequential"
   ]
  },
  {
   "cell_type": "code",
   "execution_count": null,
   "metadata": {},
   "outputs": [],
   "source": [
    "import tensorflow as tf"
   ]
  },
  {
   "cell_type": "code",
   "execution_count": null,
   "metadata": {},
   "outputs": [],
   "source": [
    "# importing the libraries\n",
    "from tensorflow import keras\n",
    "#from tensorflow.keras import layers \n",
    "from keras.models import Sequential\n",
    "from keras.layers import Dense"
   ]
  },
  {
   "cell_type": "code",
   "execution_count": null,
   "metadata": {},
   "outputs": [],
   "source": [
    "# Define number of features\n",
    "num_features = 17"
   ]
  },
  {
   "cell_type": "code",
   "execution_count": null,
   "metadata": {},
   "outputs": [
    {
     "name": "stdout",
     "output_type": "stream",
     "text": [
      "WARNING:tensorflow:From C:\\Users\\dkout\\AppData\\Roaming\\Python\\Python311\\site-packages\\keras\\src\\backend.py:873: The name tf.get_default_graph is deprecated. Please use tf.compat.v1.get_default_graph instead.\n",
      "\n"
     ]
    }
   ],
   "source": [
    "# create ANN model\n",
    "model = Sequential()"
   ]
  },
  {
   "cell_type": "code",
   "execution_count": null,
   "metadata": {},
   "outputs": [],
   "source": [
    "# Defining the Input layer and FIRST hidden layer, both are same!\n",
    "model.add(Dense(units=5, input_dim=num_features, kernel_initializer='normal', activation='relu'))"
   ]
  },
  {
   "cell_type": "code",
   "execution_count": null,
   "metadata": {},
   "outputs": [],
   "source": [
    "# Defining the Second layer of the model\n",
    "# after the first layer we don't have to specify input_dim as keras configure it automatically\n",
    "model.add(Dense(units=5, kernel_initializer='normal', activation='tanh'))"
   ]
  },
  {
   "cell_type": "code",
   "execution_count": null,
   "metadata": {},
   "outputs": [],
   "source": [
    "# Defining the Second layer of the model\n",
    "# after the first layer we don't have to specify input_dim as keras configure it automatically\n",
    "model.add(Dense(units=5, kernel_initializer='normal', activation='tanh'))"
   ]
  },
  {
   "cell_type": "code",
   "execution_count": null,
   "metadata": {},
   "outputs": [],
   "source": [
    "# The output neuron is a single fully connected node \n",
    "# Since we will be predicting a single number\n",
    "model.add(Dense(1, kernel_initializer='normal'))"
   ]
  },
  {
   "cell_type": "code",
   "execution_count": null,
   "metadata": {},
   "outputs": [
    {
     "name": "stdout",
     "output_type": "stream",
     "text": [
      "WARNING:tensorflow:From C:\\Users\\dkout\\AppData\\Roaming\\Python\\Python311\\site-packages\\keras\\src\\optimizers\\__init__.py:309: The name tf.train.Optimizer is deprecated. Please use tf.compat.v1.train.Optimizer instead.\n",
      "\n"
     ]
    }
   ],
   "source": [
    "# Compiling the model\n",
    "model.compile(loss='mean_squared_error', optimizer='adam')"
   ]
  },
  {
   "cell_type": "code",
   "execution_count": null,
   "metadata": {},
   "outputs": [
    {
     "name": "stdout",
     "output_type": "stream",
     "text": [
      "Epoch 1/50\n",
      "WARNING:tensorflow:From C:\\Users\\dkout\\AppData\\Roaming\\Python\\Python311\\site-packages\\keras\\src\\utils\\tf_utils.py:492: The name tf.ragged.RaggedTensorValue is deprecated. Please use tf.compat.v1.ragged.RaggedTensorValue instead.\n",
      "\n"
     ]
    },
    {
     "name": "stdout",
     "output_type": "stream",
     "text": [
      "201/201 [==============================] - 1s 1ms/step - loss: 0.7626\n",
      "Epoch 2/50\n",
      "201/201 [==============================] - 0s 1ms/step - loss: 0.5095\n",
      "Epoch 3/50\n",
      "201/201 [==============================] - 0s 1ms/step - loss: 0.4294\n",
      "Epoch 4/50\n",
      "201/201 [==============================] - 0s 1ms/step - loss: 0.3888\n",
      "Epoch 5/50\n",
      "201/201 [==============================] - 0s 1ms/step - loss: 0.3646\n",
      "Epoch 6/50\n",
      "201/201 [==============================] - 0s 1ms/step - loss: 0.3474\n",
      "Epoch 7/50\n",
      "201/201 [==============================] - 0s 1ms/step - loss: 0.3338\n",
      "Epoch 8/50\n",
      "201/201 [==============================] - 0s 1ms/step - loss: 0.3209\n",
      "Epoch 9/50\n",
      "201/201 [==============================] - 0s 1ms/step - loss: 0.3106\n",
      "Epoch 10/50\n",
      "201/201 [==============================] - 0s 1ms/step - loss: 0.3029\n",
      "Epoch 11/50\n",
      "201/201 [==============================] - 0s 1ms/step - loss: 0.2957\n",
      "Epoch 12/50\n",
      "201/201 [==============================] - 0s 1ms/step - loss: 0.2884\n",
      "Epoch 13/50\n",
      "201/201 [==============================] - 0s 1ms/step - loss: 0.2820\n",
      "Epoch 14/50\n",
      "201/201 [==============================] - 0s 2ms/step - loss: 0.2762\n",
      "Epoch 15/50\n",
      "201/201 [==============================] - 0s 1ms/step - loss: 0.2705\n",
      "Epoch 16/50\n",
      "201/201 [==============================] - 0s 1ms/step - loss: 0.2652\n",
      "Epoch 17/50\n",
      "201/201 [==============================] - 0s 1ms/step - loss: 0.2610\n",
      "Epoch 18/50\n",
      "201/201 [==============================] - 0s 1ms/step - loss: 0.2557\n",
      "Epoch 19/50\n",
      "201/201 [==============================] - 0s 2ms/step - loss: 0.2512\n",
      "Epoch 20/50\n",
      "201/201 [==============================] - 0s 1ms/step - loss: 0.2475\n",
      "Epoch 21/50\n",
      "201/201 [==============================] - 0s 1ms/step - loss: 0.2434\n",
      "Epoch 22/50\n",
      "201/201 [==============================] - 0s 1ms/step - loss: 0.2388\n",
      "Epoch 23/50\n",
      "201/201 [==============================] - 0s 1ms/step - loss: 0.2366\n",
      "Epoch 24/50\n",
      "201/201 [==============================] - 0s 2ms/step - loss: 0.2319\n",
      "Epoch 25/50\n",
      "201/201 [==============================] - 0s 1ms/step - loss: 0.2287\n",
      "Epoch 26/50\n",
      "201/201 [==============================] - 0s 1ms/step - loss: 0.2272\n",
      "Epoch 27/50\n",
      "201/201 [==============================] - 0s 1ms/step - loss: 0.2240\n",
      "Epoch 28/50\n",
      "201/201 [==============================] - 0s 1ms/step - loss: 0.2219\n",
      "Epoch 29/50\n",
      "201/201 [==============================] - 0s 1ms/step - loss: 0.2185\n",
      "Epoch 30/50\n",
      "201/201 [==============================] - 0s 2ms/step - loss: 0.2168\n",
      "Epoch 31/50\n",
      "201/201 [==============================] - 0s 2ms/step - loss: 0.2137\n",
      "Epoch 32/50\n",
      "201/201 [==============================] - 0s 1ms/step - loss: 0.2107\n",
      "Epoch 33/50\n",
      "201/201 [==============================] - 0s 1ms/step - loss: 0.2105\n",
      "Epoch 34/50\n",
      "201/201 [==============================] - 0s 1ms/step - loss: 0.2075\n",
      "Epoch 35/50\n",
      "201/201 [==============================] - 0s 1ms/step - loss: 0.2055\n",
      "Epoch 36/50\n",
      "201/201 [==============================] - 0s 2ms/step - loss: 0.2033\n",
      "Epoch 37/50\n",
      "201/201 [==============================] - 0s 1ms/step - loss: 0.2021\n",
      "Epoch 38/50\n",
      "201/201 [==============================] - 0s 1ms/step - loss: 0.2008\n",
      "Epoch 39/50\n",
      "201/201 [==============================] - 0s 1ms/step - loss: 0.1985\n",
      "Epoch 40/50\n",
      "201/201 [==============================] - 0s 1ms/step - loss: 0.1984\n",
      "Epoch 41/50\n",
      "201/201 [==============================] - 0s 2ms/step - loss: 0.1961\n",
      "Epoch 42/50\n",
      "201/201 [==============================] - 0s 1ms/step - loss: 0.1956\n",
      "Epoch 43/50\n",
      "201/201 [==============================] - 0s 1ms/step - loss: 0.1940\n",
      "Epoch 44/50\n",
      "201/201 [==============================] - 0s 1ms/step - loss: 0.1910\n",
      "Epoch 45/50\n",
      "201/201 [==============================] - 0s 1ms/step - loss: 0.1905\n",
      "Epoch 46/50\n",
      "201/201 [==============================] - 0s 2ms/step - loss: 0.1893\n",
      "Epoch 47/50\n",
      "201/201 [==============================] - 0s 1ms/step - loss: 0.1877\n",
      "Epoch 48/50\n",
      "201/201 [==============================] - 0s 1ms/step - loss: 0.1876\n",
      "Epoch 49/50\n",
      "201/201 [==============================] - 0s 1ms/step - loss: 0.1861\n",
      "Epoch 50/50\n",
      "201/201 [==============================] - 0s 1ms/step - loss: 0.1850\n"
     ]
    },
    {
     "data": {
      "text/plain": [
       "<keras.src.callbacks.History at 0x21d9313a350>"
      ]
     },
     "metadata": {},
     "output_type": "display_data"
    }
   ],
   "source": [
    "# Fitting the ANN to the Training set\n",
    "model.fit(X_train, y_train, \n",
    "        batch_size = 20, \n",
    "        epochs = 50, verbose=1)"
   ]
  },
  {
   "cell_type": "markdown",
   "metadata": {},
   "source": [
    "# Finding best parameters using manual grid search"
   ]
  },
  {
   "cell_type": "code",
   "execution_count": null,
   "metadata": {},
   "outputs": [
    {
     "name": "stdout",
     "output_type": "stream",
     "text": [
      "54/54 [==============================] - 0s 1ms/step\n",
      "1 Parameters: batch_size: 5 - epochs: 5 Accuracy: 66.52603854527806\n",
      "54/54 [==============================] - 0s 1ms/step\n",
      "2 Parameters: batch_size: 5 - epochs: 10 Accuracy: 49.99631463818439\n",
      "54/54 [==============================] - 0s 2ms/step\n",
      "3 Parameters: batch_size: 5 - epochs: 50 Accuracy: 76.06227524481167\n",
      "54/54 [==============================] - 0s 1ms/step\n",
      "4 Parameters: batch_size: 5 - epochs: 100 Accuracy: 74.69568004387449\n",
      "54/54 [==============================] - 0s 1ms/step\n",
      "5 Parameters: batch_size: 10 - epochs: 5 Accuracy: 65.10666320145192\n",
      "54/54 [==============================] - 0s 1ms/step\n",
      "6 Parameters: batch_size: 10 - epochs: 10 Accuracy: 65.46356269636502\n",
      "54/54 [==============================] - 0s 1ms/step\n",
      "7 Parameters: batch_size: 10 - epochs: 50 Accuracy: 75.34773774158045\n",
      "54/54 [==============================] - 0s 2ms/step\n",
      "8 Parameters: batch_size: 10 - epochs: 100 Accuracy: 79.00681464178489\n",
      "54/54 [==============================] - 0s 1ms/step\n",
      "9 Parameters: batch_size: 15 - epochs: 5 Accuracy: 57.74481432454221\n",
      "54/54 [==============================] - 0s 2ms/step\n",
      "10 Parameters: batch_size: 15 - epochs: 10 Accuracy: 68.19011909422245\n",
      "54/54 [==============================] - 0s 2ms/step\n",
      "11 Parameters: batch_size: 15 - epochs: 50 Accuracy: 79.54379345013334\n",
      "54/54 [==============================] - 0s 2ms/step\n",
      "12 Parameters: batch_size: 15 - epochs: 100 Accuracy: 75.11930625694275\n",
      "54/54 [==============================] - 0s 1ms/step\n",
      "13 Parameters: batch_size: 20 - epochs: 5 Accuracy: 83.33231590321572\n",
      "54/54 [==============================] - 0s 1ms/step\n",
      "14 Parameters: batch_size: 20 - epochs: 10 Accuracy: 73.13224775813626\n",
      "54/54 [==============================] - 0s 1ms/step\n",
      "15 Parameters: batch_size: 20 - epochs: 50 Accuracy: 68.2896886389001\n",
      "54/54 [==============================] - 0s 1ms/step\n",
      "16 Parameters: batch_size: 20 - epochs: 100 Accuracy: 73.4119397169611\n"
     ]
    }
   ],
   "source": [
    "# Defining a function to find the best parameters for ANN\n",
    "def FunctionFindBestParams(X_train, y_train, X_test, y_test):\n",
    "    # Defining the list of hyper parameters to try\n",
    "    batch_size_list=[5, 10, 15, 20]\n",
    "    epoch_list  =   [5, 10, 50, 100]\n",
    "    \n",
    "    import pandas as pd\n",
    "    SearchResultsData=pd.DataFrame(columns=['TrialNumber', 'Parameters', 'Accuracy'])\n",
    "    \n",
    "    # initializing the trials\n",
    "    TrialNumber=0\n",
    "    for batch_size_trial in batch_size_list:\n",
    "        for epochs_trial in epoch_list:\n",
    "            TrialNumber+=1\n",
    "            # create ANN model\n",
    "            model = Sequential()\n",
    "            # Defining the first layer of the model\n",
    "            model.add(Dense(units=5, input_dim=X_train.shape[1], kernel_initializer='normal', activation='relu'))\n",
    "\n",
    "            # Defining the Second layer of the model\n",
    "            model.add(Dense(units=5, kernel_initializer='normal', activation='relu'))\n",
    "\n",
    "            # The output neuron is a single fully connected node \n",
    "            # Since we will be predicting a single number\n",
    "            model.add(Dense(1, kernel_initializer='normal'))\n",
    "\n",
    "            # Compiling the model\n",
    "            model.compile(loss='mean_squared_error', optimizer='adam')\n",
    "\n",
    "            # Fitting the ANN to the Training set\n",
    "            model.fit(X_train, y_train ,batch_size = batch_size_trial, epochs = epochs_trial, verbose=0)\n",
    "\n",
    "            MAPE = np.mean(100 * (np.abs(y_test-model.predict(X_test))/y_test))\n",
    "            \n",
    "            # printing the results of the current iteration\n",
    "            print(TrialNumber, 'Parameters:','batch_size:', batch_size_trial,'-', 'epochs:',epochs_trial, 'Accuracy:', 100-MAPE)\n",
    "            \n",
    "            SearchResultsData=pd.concat([SearchResultsData, pd.DataFrame(data=[[TrialNumber, str(batch_size_trial)+'-'+str(epochs_trial), 100-MAPE]],\n",
    "                                                                    columns=['TrialNumber', 'Parameters', 'Accuracy'] )])\n",
    "    return(SearchResultsData)\n",
    "\n",
    "######################################\n",
    "# Calling the function\n",
    "ResultsData=FunctionFindBestParams(X_train, y_train, X_test, y_test)"
   ]
  },
  {
   "cell_type": "code",
   "execution_count": null,
   "metadata": {},
   "outputs": [
    {
     "data": {
      "text/plain": [
       "<Axes: xlabel='Parameters'>"
      ]
     },
     "metadata": {},
     "output_type": "display_data"
    },
    {
     "data": {
      "image/png": "[encoded data removed]",
      "text/plain": [
       "<Figure size 1500x400 with 1 Axes>"
      ]
     },
     "metadata": {},
     "output_type": "display_data"
    }
   ],
   "source": [
    "%matplotlib inline\n",
    "ResultsData.plot(x='Parameters', y='Accuracy',figsize=(15,4), kind='line')"
   ]
  },
  {
   "cell_type": "markdown",
   "metadata": {},
   "source": [
    "# Training the ANN model with best best parameter"
   ]
  },
  {
   "cell_type": "code",
   "execution_count": null,
   "metadata": {},
   "outputs": [
    {
     "name": "stdout",
     "output_type": "stream",
     "text": [
      "Epoch 1/5\n",
      "201/201 [==============================] - 0s 1ms/step - loss: 0.1456\n",
      "Epoch 2/5\n",
      "201/201 [==============================] - 0s 1ms/step - loss: 0.1435\n",
      "Epoch 3/5\n",
      "201/201 [==============================] - 0s 1ms/step - loss: 0.1437\n",
      "Epoch 4/5\n",
      "201/201 [==============================] - 0s 2ms/step - loss: 0.1450\n",
      "Epoch 5/5\n",
      "201/201 [==============================] - 0s 2ms/step - loss: 0.1439\n"
     ]
    },
    {
     "data": {
      "text/plain": [
       "<keras.src.callbacks.History at 0x21d9d5a7310>"
      ]
     },
     "metadata": {},
     "output_type": "display_data"
    }
   ],
   "source": [
    "#fitting the ANN to the training set\n",
    "model.fit(X_train, y_train, batch_size = 20, epochs = 5, verbose=1)"
   ]
  },
  {
   "cell_type": "code",
   "execution_count": null,
   "metadata": {},
   "outputs": [
    {
     "name": "stdout",
     "output_type": "stream",
     "text": [
      "54/54 [==============================] - 0s 2ms/step\n"
     ]
    }
   ],
   "source": [
    "#generating predictions on the test set\n",
    "Predictions = model.predict(X_test)"
   ]
  },
  {
   "cell_type": "code",
   "execution_count": null,
   "metadata": {},
   "outputs": [],
   "source": [
    "#scalinng back the predictions to original scale\n",
    "Predictions = targetScalerFit.inverse_transform(Predictions)"
   ]
  },
  {
   "cell_type": "code",
   "execution_count": null,
   "metadata": {},
   "outputs": [],
   "source": [
    "#scaling back the y_test to original scale\n",
    "y_test_orig = targetScalerFit.inverse_transform(y_test)"
   ]
  },
  {
   "cell_type": "code",
   "execution_count": null,
   "metadata": {},
   "outputs": [],
   "source": [
    "#scaling test data back to orginal\n",
    "Test_data = predictorScalerFit.inverse_transform(X_test)"
   ]
  },
  {
   "cell_type": "code",
   "execution_count": null,
   "metadata": {},
   "outputs": [
    {
     "data": {
      "text/html": [
       "<div>\n",
       "<style scoped>\n",
       "    .dataframe tbody tr th:only-of-type {\n",
       "        vertical-align: middle;\n",
       "    }\n",
       "\n",
       "    .dataframe tbody tr th {\n",
       "        vertical-align: top;\n",
       "    }\n",
       "\n",
       "    .dataframe thead th {\n",
       "        text-align: right;\n",
       "    }\n",
       "</style>\n",
       "<table border=\"1\" class=\"dataframe\">\n",
       "  <thead>\n",
       "    <tr style=\"text-align: right;\">\n",
       "      <th></th>\n",
       "      <th>reporting_period</th>\n",
       "      <th>number_flights_matched</th>\n",
       "      <th>actual_flights_unmatched</th>\n",
       "      <th>number_flights_cancelled</th>\n",
       "      <th>flights_more_than_15_minutes_early_percent</th>\n",
       "      <th>flights_15_minutes_early_to_1_minute_early_percent</th>\n",
       "      <th>flights_0_to_15_minutes_late_percent</th>\n",
       "      <th>flights_between_16_and_30_minutes_late_percent</th>\n",
       "      <th>flights_between_31_and_60_minutes_late_percent</th>\n",
       "      <th>flights_between_61_and_120_minutes_late_percent</th>\n",
       "      <th>flights_between_121_and_180_minutes_late_percent</th>\n",
       "      <th>flights_between_181_and_360_minutes_late_percent</th>\n",
       "      <th>flights_more_than_360_minutes_late_percent</th>\n",
       "      <th>arrival_departure_A</th>\n",
       "      <th>arrival_departure_D</th>\n",
       "      <th>scheduled_charter_C</th>\n",
       "      <th>scheduled_charter_S</th>\n",
       "      <th>Actual Mins</th>\n",
       "      <th>PredictedMins</th>\n",
       "    </tr>\n",
       "  </thead>\n",
       "  <tbody>\n",
       "    <tr>\n",
       "      <th>0</th>\n",
       "      <td>202202.0</td>\n",
       "      <td>6.0</td>\n",
       "      <td>0.0</td>\n",
       "      <td>2.775558e-17</td>\n",
       "      <td>0.0</td>\n",
       "      <td>0.000000</td>\n",
       "      <td>83.333333</td>\n",
       "      <td>0.000000</td>\n",
       "      <td>0.000000</td>\n",
       "      <td>0.000000</td>\n",
       "      <td>0.000000</td>\n",
       "      <td>16.666667</td>\n",
       "      <td>0.0</td>\n",
       "      <td>0.0</td>\n",
       "      <td>1.0</td>\n",
       "      <td>1.0</td>\n",
       "      <td>0.0</td>\n",
       "      <td>39.0</td>\n",
       "      <td>40.157040</td>\n",
       "    </tr>\n",
       "    <tr>\n",
       "      <th>1</th>\n",
       "      <td>202205.0</td>\n",
       "      <td>117.0</td>\n",
       "      <td>0.0</td>\n",
       "      <td>2.775558e-17</td>\n",
       "      <td>0.0</td>\n",
       "      <td>14.529915</td>\n",
       "      <td>43.589744</td>\n",
       "      <td>21.367521</td>\n",
       "      <td>16.239316</td>\n",
       "      <td>3.418803</td>\n",
       "      <td>0.854701</td>\n",
       "      <td>0.000000</td>\n",
       "      <td>0.0</td>\n",
       "      <td>0.0</td>\n",
       "      <td>1.0</td>\n",
       "      <td>0.0</td>\n",
       "      <td>1.0</td>\n",
       "      <td>19.0</td>\n",
       "      <td>19.798374</td>\n",
       "    </tr>\n",
       "    <tr>\n",
       "      <th>2</th>\n",
       "      <td>202302.0</td>\n",
       "      <td>1.0</td>\n",
       "      <td>0.0</td>\n",
       "      <td>2.775558e-17</td>\n",
       "      <td>0.0</td>\n",
       "      <td>0.000000</td>\n",
       "      <td>0.000000</td>\n",
       "      <td>0.000000</td>\n",
       "      <td>0.000000</td>\n",
       "      <td>0.000000</td>\n",
       "      <td>100.000000</td>\n",
       "      <td>0.000000</td>\n",
       "      <td>0.0</td>\n",
       "      <td>0.0</td>\n",
       "      <td>1.0</td>\n",
       "      <td>1.0</td>\n",
       "      <td>0.0</td>\n",
       "      <td>135.0</td>\n",
       "      <td>152.398102</td>\n",
       "    </tr>\n",
       "    <tr>\n",
       "      <th>3</th>\n",
       "      <td>202206.0</td>\n",
       "      <td>3.0</td>\n",
       "      <td>0.0</td>\n",
       "      <td>2.775558e-17</td>\n",
       "      <td>0.0</td>\n",
       "      <td>33.333333</td>\n",
       "      <td>33.333333</td>\n",
       "      <td>0.000000</td>\n",
       "      <td>0.000000</td>\n",
       "      <td>33.333333</td>\n",
       "      <td>0.000000</td>\n",
       "      <td>0.000000</td>\n",
       "      <td>0.0</td>\n",
       "      <td>1.0</td>\n",
       "      <td>0.0</td>\n",
       "      <td>0.0</td>\n",
       "      <td>1.0</td>\n",
       "      <td>22.0</td>\n",
       "      <td>33.993065</td>\n",
       "    </tr>\n",
       "    <tr>\n",
       "      <th>4</th>\n",
       "      <td>202206.0</td>\n",
       "      <td>1.0</td>\n",
       "      <td>0.0</td>\n",
       "      <td>2.775558e-17</td>\n",
       "      <td>0.0</td>\n",
       "      <td>0.000000</td>\n",
       "      <td>0.000000</td>\n",
       "      <td>0.000000</td>\n",
       "      <td>0.000000</td>\n",
       "      <td>100.000000</td>\n",
       "      <td>0.000000</td>\n",
       "      <td>0.000000</td>\n",
       "      <td>0.0</td>\n",
       "      <td>1.0</td>\n",
       "      <td>0.0</td>\n",
       "      <td>1.0</td>\n",
       "      <td>0.0</td>\n",
       "      <td>117.0</td>\n",
       "      <td>87.383865</td>\n",
       "    </tr>\n",
       "  </tbody>\n",
       "</table>\n",
       "</div>"
      ],
      "text/plain": [
       "   reporting_period  number_flights_matched  actual_flights_unmatched  \\\n",
       "0          202202.0                     6.0                       0.0   \n",
       "1          202205.0                   117.0                       0.0   \n",
       "2          202302.0                     1.0                       0.0   \n",
       "3          202206.0                     3.0                       0.0   \n",
       "4          202206.0                     1.0                       0.0   \n",
       "\n",
       "   number_flights_cancelled  flights_more_than_15_minutes_early_percent  \\\n",
       "0              2.775558e-17                                         0.0   \n",
       "1              2.775558e-17                                         0.0   \n",
       "2              2.775558e-17                                         0.0   \n",
       "3              2.775558e-17                                         0.0   \n",
       "4              2.775558e-17                                         0.0   \n",
       "\n",
       "   flights_15_minutes_early_to_1_minute_early_percent  \\\n",
       "0                                           0.000000    \n",
       "1                                          14.529915    \n",
       "2                                           0.000000    \n",
       "3                                          33.333333    \n",
       "4                                           0.000000    \n",
       "\n",
       "   flights_0_to_15_minutes_late_percent  \\\n",
       "0                             83.333333   \n",
       "1                             43.589744   \n",
       "2                              0.000000   \n",
       "3                             33.333333   \n",
       "4                              0.000000   \n",
       "\n",
       "   flights_between_16_and_30_minutes_late_percent  \\\n",
       "0                                        0.000000   \n",
       "1                                       21.367521   \n",
       "2                                        0.000000   \n",
       "3                                        0.000000   \n",
       "4                                        0.000000   \n",
       "\n",
       "   flights_between_31_and_60_minutes_late_percent  \\\n",
       "0                                        0.000000   \n",
       "1                                       16.239316   \n",
       "2                                        0.000000   \n",
       "3                                        0.000000   \n",
       "4                                        0.000000   \n",
       "\n",
       "   flights_between_61_and_120_minutes_late_percent  \\\n",
       "0                                         0.000000   \n",
       "1                                         3.418803   \n",
       "2                                         0.000000   \n",
       "3                                        33.333333   \n",
       "4                                       100.000000   \n",
       "\n",
       "   flights_between_121_and_180_minutes_late_percent  \\\n",
       "0                                          0.000000   \n",
       "1                                          0.854701   \n",
       "2                                        100.000000   \n",
       "3                                          0.000000   \n",
       "4                                          0.000000   \n",
       "\n",
       "   flights_between_181_and_360_minutes_late_percent  \\\n",
       "0                                         16.666667   \n",
       "1                                          0.000000   \n",
       "2                                          0.000000   \n",
       "3                                          0.000000   \n",
       "4                                          0.000000   \n",
       "\n",
       "   flights_more_than_360_minutes_late_percent  arrival_departure_A  \\\n",
       "0                                         0.0                  0.0   \n",
       "1                                         0.0                  0.0   \n",
       "2                                         0.0                  0.0   \n",
       "3                                         0.0                  1.0   \n",
       "4                                         0.0                  1.0   \n",
       "\n",
       "   arrival_departure_D  scheduled_charter_C  scheduled_charter_S  Actual Mins  \\\n",
       "0                  1.0                  1.0                  0.0         39.0   \n",
       "1                  1.0                  0.0                  1.0         19.0   \n",
       "2                  1.0                  1.0                  0.0        135.0   \n",
       "3                  0.0                  0.0                  1.0         22.0   \n",
       "4                  0.0                  1.0                  0.0        117.0   \n",
       "\n",
       "   PredictedMins  \n",
       "0      40.157040  \n",
       "1      19.798374  \n",
       "2     152.398102  \n",
       "3      33.993065  \n",
       "4      87.383865  "
      ]
     },
     "metadata": {},
     "output_type": "display_data"
    }
   ],
   "source": [
    "Testing_data = pd.DataFrame(data=Test_data, columns=predictors.columns)\n",
    "Testing_data['Actual Mins'] = y_test_orig\n",
    "Testing_data['PredictedMins'] = Predictions\n",
    "Testing_data.head()"
   ]
  },
  {
   "cell_type": "markdown",
   "metadata": {},
   "source": [
    "# Find Accuracy\n",
    "\n",
    "MAPE = mean absolute percentage error"
   ]
  },
  {
   "cell_type": "code",
   "execution_count": null,
   "metadata": {},
   "outputs": [
    {
     "name": "stdout",
     "output_type": "stream",
     "text": [
      "80.09002591456397\n"
     ]
    },
    {
     "data": {
      "text/html": [
       "<div>\n",
       "<style scoped>\n",
       "    .dataframe tbody tr th:only-of-type {\n",
       "        vertical-align: middle;\n",
       "    }\n",
       "\n",
       "    .dataframe tbody tr th {\n",
       "        vertical-align: top;\n",
       "    }\n",
       "\n",
       "    .dataframe thead th {\n",
       "        text-align: right;\n",
       "    }\n",
       "</style>\n",
       "<table border=\"1\" class=\"dataframe\">\n",
       "  <thead>\n",
       "    <tr style=\"text-align: right;\">\n",
       "      <th></th>\n",
       "      <th>reporting_period</th>\n",
       "      <th>number_flights_matched</th>\n",
       "      <th>actual_flights_unmatched</th>\n",
       "      <th>number_flights_cancelled</th>\n",
       "      <th>flights_more_than_15_minutes_early_percent</th>\n",
       "      <th>flights_15_minutes_early_to_1_minute_early_percent</th>\n",
       "      <th>flights_0_to_15_minutes_late_percent</th>\n",
       "      <th>flights_between_16_and_30_minutes_late_percent</th>\n",
       "      <th>flights_between_31_and_60_minutes_late_percent</th>\n",
       "      <th>flights_between_61_and_120_minutes_late_percent</th>\n",
       "      <th>flights_between_121_and_180_minutes_late_percent</th>\n",
       "      <th>flights_between_181_and_360_minutes_late_percent</th>\n",
       "      <th>flights_more_than_360_minutes_late_percent</th>\n",
       "      <th>arrival_departure_A</th>\n",
       "      <th>arrival_departure_D</th>\n",
       "      <th>scheduled_charter_C</th>\n",
       "      <th>scheduled_charter_S</th>\n",
       "      <th>Actual Mins</th>\n",
       "      <th>PredictedMins</th>\n",
       "      <th>APE</th>\n",
       "    </tr>\n",
       "  </thead>\n",
       "  <tbody>\n",
       "    <tr>\n",
       "      <th>0</th>\n",
       "      <td>202202.0</td>\n",
       "      <td>6.0</td>\n",
       "      <td>0.0</td>\n",
       "      <td>2.775558e-17</td>\n",
       "      <td>0.0</td>\n",
       "      <td>0.000000</td>\n",
       "      <td>83.333333</td>\n",
       "      <td>0.000000</td>\n",
       "      <td>0.000000</td>\n",
       "      <td>0.000000</td>\n",
       "      <td>0.000000</td>\n",
       "      <td>16.666667</td>\n",
       "      <td>0.0</td>\n",
       "      <td>0.0</td>\n",
       "      <td>1.0</td>\n",
       "      <td>1.0</td>\n",
       "      <td>0.0</td>\n",
       "      <td>39.0</td>\n",
       "      <td>40.157040</td>\n",
       "      <td>2.966768</td>\n",
       "    </tr>\n",
       "    <tr>\n",
       "      <th>1</th>\n",
       "      <td>202205.0</td>\n",
       "      <td>117.0</td>\n",
       "      <td>0.0</td>\n",
       "      <td>2.775558e-17</td>\n",
       "      <td>0.0</td>\n",
       "      <td>14.529915</td>\n",
       "      <td>43.589744</td>\n",
       "      <td>21.367521</td>\n",
       "      <td>16.239316</td>\n",
       "      <td>3.418803</td>\n",
       "      <td>0.854701</td>\n",
       "      <td>0.000000</td>\n",
       "      <td>0.0</td>\n",
       "      <td>0.0</td>\n",
       "      <td>1.0</td>\n",
       "      <td>0.0</td>\n",
       "      <td>1.0</td>\n",
       "      <td>19.0</td>\n",
       "      <td>19.798374</td>\n",
       "      <td>4.201969</td>\n",
       "    </tr>\n",
       "    <tr>\n",
       "      <th>2</th>\n",
       "      <td>202302.0</td>\n",
       "      <td>1.0</td>\n",
       "      <td>0.0</td>\n",
       "      <td>2.775558e-17</td>\n",
       "      <td>0.0</td>\n",
       "      <td>0.000000</td>\n",
       "      <td>0.000000</td>\n",
       "      <td>0.000000</td>\n",
       "      <td>0.000000</td>\n",
       "      <td>0.000000</td>\n",
       "      <td>100.000000</td>\n",
       "      <td>0.000000</td>\n",
       "      <td>0.0</td>\n",
       "      <td>0.0</td>\n",
       "      <td>1.0</td>\n",
       "      <td>1.0</td>\n",
       "      <td>0.0</td>\n",
       "      <td>135.0</td>\n",
       "      <td>152.398102</td>\n",
       "      <td>12.887483</td>\n",
       "    </tr>\n",
       "    <tr>\n",
       "      <th>3</th>\n",
       "      <td>202206.0</td>\n",
       "      <td>3.0</td>\n",
       "      <td>0.0</td>\n",
       "      <td>2.775558e-17</td>\n",
       "      <td>0.0</td>\n",
       "      <td>33.333333</td>\n",
       "      <td>33.333333</td>\n",
       "      <td>0.000000</td>\n",
       "      <td>0.000000</td>\n",
       "      <td>33.333333</td>\n",
       "      <td>0.000000</td>\n",
       "      <td>0.000000</td>\n",
       "      <td>0.0</td>\n",
       "      <td>1.0</td>\n",
       "      <td>0.0</td>\n",
       "      <td>0.0</td>\n",
       "      <td>1.0</td>\n",
       "      <td>22.0</td>\n",
       "      <td>33.993065</td>\n",
       "      <td>54.513931</td>\n",
       "    </tr>\n",
       "    <tr>\n",
       "      <th>4</th>\n",
       "      <td>202206.0</td>\n",
       "      <td>1.0</td>\n",
       "      <td>0.0</td>\n",
       "      <td>2.775558e-17</td>\n",
       "      <td>0.0</td>\n",
       "      <td>0.000000</td>\n",
       "      <td>0.000000</td>\n",
       "      <td>0.000000</td>\n",
       "      <td>0.000000</td>\n",
       "      <td>100.000000</td>\n",
       "      <td>0.000000</td>\n",
       "      <td>0.000000</td>\n",
       "      <td>0.0</td>\n",
       "      <td>1.0</td>\n",
       "      <td>0.0</td>\n",
       "      <td>1.0</td>\n",
       "      <td>0.0</td>\n",
       "      <td>117.0</td>\n",
       "      <td>87.383865</td>\n",
       "      <td>25.312936</td>\n",
       "    </tr>\n",
       "  </tbody>\n",
       "</table>\n",
       "</div>"
      ],
      "text/plain": [
       "   reporting_period  number_flights_matched  actual_flights_unmatched  \\\n",
       "0          202202.0                     6.0                       0.0   \n",
       "1          202205.0                   117.0                       0.0   \n",
       "2          202302.0                     1.0                       0.0   \n",
       "3          202206.0                     3.0                       0.0   \n",
       "4          202206.0                     1.0                       0.0   \n",
       "\n",
       "   number_flights_cancelled  flights_more_than_15_minutes_early_percent  \\\n",
       "0              2.775558e-17                                         0.0   \n",
       "1              2.775558e-17                                         0.0   \n",
       "2              2.775558e-17                                         0.0   \n",
       "3              2.775558e-17                                         0.0   \n",
       "4              2.775558e-17                                         0.0   \n",
       "\n",
       "   flights_15_minutes_early_to_1_minute_early_percent  \\\n",
       "0                                           0.000000    \n",
       "1                                          14.529915    \n",
       "2                                           0.000000    \n",
       "3                                          33.333333    \n",
       "4                                           0.000000    \n",
       "\n",
       "   flights_0_to_15_minutes_late_percent  \\\n",
       "0                             83.333333   \n",
       "1                             43.589744   \n",
       "2                              0.000000   \n",
       "3                             33.333333   \n",
       "4                              0.000000   \n",
       "\n",
       "   flights_between_16_and_30_minutes_late_percent  \\\n",
       "0                                        0.000000   \n",
       "1                                       21.367521   \n",
       "2                                        0.000000   \n",
       "3                                        0.000000   \n",
       "4                                        0.000000   \n",
       "\n",
       "   flights_between_31_and_60_minutes_late_percent  \\\n",
       "0                                        0.000000   \n",
       "1                                       16.239316   \n",
       "2                                        0.000000   \n",
       "3                                        0.000000   \n",
       "4                                        0.000000   \n",
       "\n",
       "   flights_between_61_and_120_minutes_late_percent  \\\n",
       "0                                         0.000000   \n",
       "1                                         3.418803   \n",
       "2                                         0.000000   \n",
       "3                                        33.333333   \n",
       "4                                       100.000000   \n",
       "\n",
       "   flights_between_121_and_180_minutes_late_percent  \\\n",
       "0                                          0.000000   \n",
       "1                                          0.854701   \n",
       "2                                        100.000000   \n",
       "3                                          0.000000   \n",
       "4                                          0.000000   \n",
       "\n",
       "   flights_between_181_and_360_minutes_late_percent  \\\n",
       "0                                         16.666667   \n",
       "1                                          0.000000   \n",
       "2                                          0.000000   \n",
       "3                                          0.000000   \n",
       "4                                          0.000000   \n",
       "\n",
       "   flights_more_than_360_minutes_late_percent  arrival_departure_A  \\\n",
       "0                                         0.0                  0.0   \n",
       "1                                         0.0                  0.0   \n",
       "2                                         0.0                  0.0   \n",
       "3                                         0.0                  1.0   \n",
       "4                                         0.0                  1.0   \n",
       "\n",
       "   arrival_departure_D  scheduled_charter_C  scheduled_charter_S  Actual Mins  \\\n",
       "0                  1.0                  1.0                  0.0         39.0   \n",
       "1                  1.0                  0.0                  1.0         19.0   \n",
       "2                  1.0                  1.0                  0.0        135.0   \n",
       "3                  0.0                  0.0                  1.0         22.0   \n",
       "4                  0.0                  1.0                  0.0        117.0   \n",
       "\n",
       "   PredictedMins        APE  \n",
       "0      40.157040   2.966768  \n",
       "1      19.798374   4.201969  \n",
       "2     152.398102  12.887483  \n",
       "3      33.993065  54.513931  \n",
       "4      87.383865  25.312936  "
      ]
     },
     "metadata": {},
     "output_type": "display_data"
    }
   ],
   "source": [
    "#calcalate the absolute percent error\n",
    "APE= 100*(abs(Testing_data['Actual Mins']-Testing_data['PredictedMins'])/Testing_data['Actual Mins'])\n",
    "Testing_data['APE'] = APE\n",
    "\n",
    "print(100-np.mean(APE))\n",
    "Testing_data.head()"
   ]
  },
  {
   "cell_type": "code",
   "execution_count": null,
   "metadata": {},
   "outputs": [
    {
     "data": {
      "text/plain": [
       "1285.0"
      ]
     },
     "metadata": {},
     "output_type": "display_data"
    }
   ],
   "source": [
    "Testing_data['Actual Mins'].max()"
   ]
  },
  {
   "cell_type": "code",
   "execution_count": null,
   "metadata": {},
   "outputs": [
    {
     "data": {
      "image/png": "[encoded data removed]",
      "text/plain": [
       "<Figure size 1500x700 with 1 Axes>"
      ]
     },
     "metadata": {},
     "output_type": "display_data"
    }
   ],
   "source": [
    "#plot the Mins and PredictedMins columns using line chart\n",
    "plt.figure(figsize=(15, 7))\n",
    "plt.plot(Testing_data['Actual Mins'], label='Actual Mins')\n",
    "plt.plot(Testing_data['PredictedMins'], label='PredictedMins')\n",
    "plt.xlabel('Index')\n",
    "plt.ylabel('Delay Minutes')\n",
    "plt.title(\"Comparison of Actual vs Predicted Minutes Delayed\")\n",
    "plt.legend()\n",
    "plt.show()"
   ]
  },
  {
   "cell_type": "markdown",
   "metadata": {},
   "source": [
    "find a way to predcit excatly unseen data to give the regr output"
   ]
  },
  {
   "cell_type": "code",
   "execution_count": null,
   "metadata": {},
   "outputs": [],
   "source": [
    "def predict_average_delay_mins(user_data_list, predictor_scaler):\n",
    "    # Preprocess user data as a DataFrame\n",
    "    user_df = pd.DataFrame(user_data_list)\n",
    "    user_df.columns = predictors.columns\n",
    "    \n",
    "    # Standardize the user's data\n",
    "    user_data_scaled = predictor_scaler.transform(user_df)\n",
    "    \n",
    "    # Generate predictions\n",
    "    predictions = model.predict(user_data_scaled)\n",
    "    \n",
    "    # Scale back the predictions to the original scale\n",
    "    predictions_original_scale = targetScaler.inverse_transform(predictions)\n",
    "    \n",
    "    # Find the average delay minutes\n",
    "    average_delay_mins = np.mean(predictions_original_scale)\n",
    "    \n",
    "    return average_delay_mins"
   ]
  },
  {
   "cell_type": "code",
   "execution_count": null,
   "metadata": {},
   "outputs": [
    {
     "name": "stdout",
     "output_type": "stream",
     "text": [
      "1/1 [==============================] - 0s 28ms/step\n",
      "The average delay minutes for the provided data is: 89.28\n"
     ]
    },
    {
     "name": "stderr",
     "output_type": "stream",
     "text": [
      "c:\\ProgramData\\anaconda3\\Lib\\site-packages\\sklearn\\base.py:457: UserWarning: X has feature names, but StandardScaler was fitted without feature names\n",
      "  warnings.warn(\n"
     ]
    }
   ],
   "source": [
    "user_data_list = [\n",
    "    {\n",
    "        'reporting_period': 202206,\n",
    "        'number_flights_matched': 1,\n",
    "        'actual_flights_unmatched': 0,\n",
    "        'number_flights_cancelled': 0,\n",
    "        'flights_more_than_15_minutes_early_percent': 0,\n",
    "        'flights_15_minutes_early_to_1_minute_early_percent': 0,\n",
    "        'flights_0_to_15_minutes_late_percent': 0,\n",
    "        'flights_between_16_and_30_minutes_late_percent': 0,\n",
    "        'flights_between_31_and_60_minutes_late_percent': 0,\n",
    "        'flights_between_61_and_120_minutes_late_percent': 100,\n",
    "        'flights_between_121_and_180_minutes_late_percent': 0,\n",
    "        'flights_between_181_and_360_minutes_late_percent': 0,\n",
    "        'flights_more_than_360_minutes_late_percent': 0,\n",
    "        'arrival_departure_A': 1,\n",
    "        'arrival_departure_D': 0,\n",
    "        'scheduled_charter_C': 0,\n",
    "        'scheduled_charter_S': 1\n",
    "    }\n",
    "]\n",
    "\n",
    "average_delay_mins = predict_average_delay_mins(user_data_list, predictorScalerFit)\n",
    "print(f\"The average delay minutes for the provided data is: {average_delay_mins:.2f}\")"
   ]
  },
  {
   "cell_type": "code",
   "execution_count": null,
   "metadata": {},
   "outputs": [],
   "source": [
    "#save it a joblib variable\n",
    "import joblib\n",
    "\n",
    "# Save the model and scaler\n",
    "joblib.dump(model, 'model.sav')\n",
    "loaded_model = joblib.load('model.sav')\n",
    "loaded_target = joblib.dump(targetScaler, 'target_scaler.sav')"
   ]
  },
  {
   "cell_type": "markdown",
   "metadata": {},
   "source": [
    "# Find best hyperparameters"
   ]
  },
  {
   "cell_type": "code",
   "execution_count": null,
   "metadata": {},
   "outputs": [],
   "source": [
    "\n",
    "'''# Function to generate Deep ANN model \n",
    "def make_regression_ann(Optimizer_trial):\n",
    "    from keras.models import Sequential\n",
    "    from keras.layers import Dense\n",
    "    \n",
    "    model = Sequential()\n",
    "    model.add(Dense(units=5, input_dim=17, kernel_initializer='normal', activation='relu'))\n",
    "    model.add(Dense(units=5, kernel_initializer='normal', activation='relu'))\n",
    "    model.add(Dense(1, kernel_initializer='normal'))\n",
    "    model.compile(loss='mean_squared_error', optimizer=Optimizer_trial)\n",
    "    return model'''"
   ]
  },
  {
   "cell_type": "code",
   "execution_count": null,
   "metadata": {},
   "outputs": [
    {
     "name": "stdout",
     "output_type": "stream",
     "text": [
      "C:\\Users\\dkout\\AppData\\Roaming\\Python\\Python311\\site-packages\\keras\\__init__.py\n"
     ]
    }
   ],
   "source": [
    "'''import keras\n",
    "print(keras.__file__)'''"
   ]
  },
  {
   "cell_type": "markdown",
   "metadata": {},
   "source": [
    "**find this shit**:       keras.wrappers.scikit_learn"
   ]
  },
  {
   "cell_type": "code",
   "execution_count": null,
   "metadata": {},
   "outputs": [],
   "source": [
    "'''from keras.models import Sequential\n",
    "from keras.layers import Dense\n",
    "from keras.wrappers.scikit_learn import KerasClassifier'''"
   ]
  },
  {
   "cell_type": "code",
   "execution_count": null,
   "metadata": {},
   "outputs": [
    {
     "data": {
      "text/plain": [
       "\"from sklearn.model_selection import GridSearchCV\\nfrom keras.wrappers.scikit_learn import KerasRegressor\\n\\n# Listing all the parameters to try\\nParameter_Trials={'batch_size':[10,20,30],\\n                    'epochs':[10,20],\\n                    'Optimizer_trial':['adam', 'rmsprop']\\n                }\\n\\n# Creating the regression ANN model\\nRegModel=KerasRegressor(make_regression_ann, verbose=0)\""
      ]
     },
     "metadata": {},
     "output_type": "display_data"
    }
   ],
   "source": [
    "'''from sklearn.model_selection import GridSearchCV\n",
    "from keras.wrappers.scikit_learn import KerasRegressor\n",
    "\n",
    "# Listing all the parameters to try\n",
    "Parameter_Trials={'batch_size':[10,20,30],\n",
    "                    'epochs':[10,20],\n",
    "                    'Optimizer_trial':['adam', 'rmsprop']\n",
    "                }\n",
    "\n",
    "# Creating the regression ANN model\n",
    "RegModel=KerasRegressor(make_regression_ann, verbose=0)'''"
   ]
  },
  {
   "cell_type": "code",
   "execution_count": null,
   "metadata": {},
   "outputs": [
    {
     "data": {
      "text/plain": [
       "\"from sklearn.metrics import make_scorer\\n\\n# Defining a custom function to calculate accuracy\\ndef Accuracy_Score(orig,pred):\\n    MAPE = np.mean(100 * (np.abs(orig-pred)/orig))\\n    print('#'*70,'Accuracy:', 100-MAPE)\\n    return(100-MAPE)\\n\\ncustom_Scoring=make_scorer(Accuracy_Score, greater_is_better=True)\""
      ]
     },
     "metadata": {},
     "output_type": "display_data"
    }
   ],
   "source": [
    "'''from sklearn.metrics import make_scorer\n",
    "\n",
    "# Defining a custom function to calculate accuracy\n",
    "def Accuracy_Score(orig,pred):\n",
    "    MAPE = np.mean(100 * (np.abs(orig-pred)/orig))\n",
    "    print('#'*70,'Accuracy:', 100-MAPE)\n",
    "    return(100-MAPE)\n",
    "\n",
    "custom_Scoring=make_scorer(Accuracy_Score, greater_is_better=True)'''"
   ]
  },
  {
   "cell_type": "code",
   "execution_count": null,
   "metadata": {},
   "outputs": [],
   "source": [
    "# Creating the Grid search space\n",
    "# See different scoring methods by using sklearn.metrics.SCORERS.keys()\n",
    "'''grid_search=GridSearchCV(estimator=RegModel, \n",
    "                        param_grid=Parameter_Trials, \n",
    "                        scoring=custom_Scoring, \n",
    "                        cv=5)'''"
   ]
  },
  {
   "cell_type": "code",
   "execution_count": null,
   "metadata": {},
   "outputs": [],
   "source": [
    "# Measuring how much time it took to find the best params\n",
    "'''import time\n",
    "StartTime=time.time()\n",
    "\n",
    "# Running Grid Search for different paramenters\n",
    "grid_search.fit(X,y, verbose=1)\n",
    "\n",
    "EndTime=time.time()\n",
    "print(\"########## Total Time Taken: \", round((EndTime-StartTime)/60), 'Minutes')\n",
    "\n",
    "print('### Printing Best parameters ###')\n",
    "grid_search.best_params_'''"
   ]
  }
 ],
 "metadata": {
  "kernelspec": {
   "display_name": "new-env",
   "language": "python",
   "name": "python3"
  },
  "language_info": {
   "codemirror_mode": {
    "name": "ipython",
    "version": 3
   },
   "file_extension": ".py",
   "mimetype": "text/x-python",
   "name": "python",
   "nbconvert_exporter": "python",
   "pygments_lexer": "ipython3",
   "version": "3.10.11"
  }
 },
 "nbformat": 4,
 "nbformat_minor": 2
}
